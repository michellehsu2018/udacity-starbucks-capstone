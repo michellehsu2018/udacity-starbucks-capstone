{
 "cells": [
  {
   "cell_type": "markdown",
   "metadata": {},
   "source": [
    "# Starbucks Capstone Challenge\n",
    "\n",
    "### Introduction\n",
    "\n",
    "This data set contains simulated data that mimics customer behavior on the Starbucks rewards mobile app. Once every few days, Starbucks sends out an offer to users of the mobile app. An offer can be merely an advertisement for a drink or an actual offer such as a discount or BOGO (buy one get one free). Some users might not receive any offer during certain weeks. \n",
    "\n",
    "Not all users receive the same offer, and that is the challenge to solve with this data set.\n",
    "\n",
    "Your task is to combine transaction, demographic and offer data to determine which demographic groups respond best to which offer type. This data set is a simplified version of the real Starbucks app because the underlying simulator only has one product whereas Starbucks actually sells dozens of products.\n",
    "\n",
    "Every offer has a validity period before the offer expires. As an example, a BOGO offer might be valid for only 5 days. You'll see in the data set that informational offers have a validity period even though these ads are merely providing information about a product; for example, if an informational offer has 7 days of validity, you can assume the customer is feeling the influence of the offer for 7 days after receiving the advertisement.\n",
    "\n",
    "You'll be given transactional data showing user purchases made on the app including the timestamp of purchase and the amount of money spent on a purchase. This transactional data also has a record for each offer that a user receives as well as a record for when a user actually views the offer. There are also records for when a user completes an offer. \n",
    "\n",
    "Keep in mind as well that someone using the app might make a purchase through the app without having received an offer or seen an offer.\n",
    "\n",
    "### Example\n",
    "\n",
    "To give an example, a user could receive a discount offer buy 10 dollars get 2 off on Monday. The offer is valid for 10 days from receipt. If the customer accumulates at least 10 dollars in purchases during the validity period, the customer completes the offer.\n",
    "\n",
    "However, there are a few things to watch out for in this data set. Customers do not opt into the offers that they receive; in other words, a user can receive an offer, never actually view the offer, and still complete the offer. For example, a user might receive the \"buy 10 dollars get 2 dollars off offer\", but the user never opens the offer during the 10 day validity period. The customer spends 15 dollars during those ten days. There will be an offer completion record in the data set; however, the customer was not influenced by the offer because the customer never viewed the offer.\n",
    "\n",
    "### Cleaning\n",
    "\n",
    "This makes data cleaning especially important and tricky.\n",
    "\n",
    "You'll also want to take into account that some demographic groups will make purchases even if they don't receive an offer. From a business perspective, if a customer is going to make a 10 dollar purchase without an offer anyway, you wouldn't want to send a buy 10 dollars get 2 dollars off offer. You'll want to try to assess what a certain demographic group will buy when not receiving any offers.\n",
    "\n",
    "### Final Advice\n",
    "\n",
    "Because this is a capstone project, you are free to analyze the data any way you see fit. For example, you could build a machine learning model that predicts how much someone will spend based on demographics and offer type. Or you could build a model that predicts whether or not someone will respond to an offer. Or, you don't need to build a machine learning model at all. You could develop a set of heuristics that determine what offer you should send to each customer (i.e., 75 percent of women customers who were 35 years old responded to offer A vs 40 percent from the same demographic to offer B, so send offer A)."
   ]
  },
  {
   "cell_type": "markdown",
   "metadata": {},
   "source": [
    "# Data Sets\n",
    "\n",
    "The data is contained in three files:\n",
    "\n",
    "* portfolio.json - containing offer ids and meta data about each offer (duration, type, etc.)\n",
    "* profile.json - demographic data for each customer\n",
    "* transcript.json - records for transactions, offers received, offers viewed, and offers completed\n",
    "\n",
    "Here is the schema and explanation of each variable in the files:\n",
    "\n",
    "**portfolio.json**\n",
    "* id (string) - offer id\n",
    "* offer_type (string) - type of offer ie BOGO, discount, informational\n",
    "* difficulty (int) - minimum required spend to complete an offer\n",
    "* reward (int) - reward given for completing an offer\n",
    "* duration (int) - time for offer to be open, in days\n",
    "* channels (list of strings)\n",
    "\n",
    "**profile.json**\n",
    "* age (int) - age of the customer \n",
    "* became_member_on (int) - date when customer created an app account\n",
    "* gender (str) - gender of the customer (note some entries contain 'O' for other rather than M or F)\n",
    "* id (str) - customer id\n",
    "* income (float) - customer's income\n",
    "\n",
    "**transcript.json**\n",
    "* event (str) - record description (ie transaction, offer received, offer viewed, etc.)\n",
    "* person (str) - customer id\n",
    "* time (int) - time in hours since start of test. The data begins at time t=0\n",
    "* value - (dict of strings) - either an offer id or transaction amount depending on the record\n",
    "\n",
    "**Note:** If you are using the workspace, you will need to go to the terminal and run the command `conda update pandas` before reading in the files. This is because the version of pandas in the workspace cannot read in the transcript.json file correctly, but the newest version of pandas can. You can access the termnal from the orange icon in the top left of this notebook.  \n",
    "\n",
    "You can see how to access the terminal and how the install works using the two images below.  First you need to access the terminal:\n",
    "\n",
    "<img src=\"pic1.png\"/>\n",
    "\n",
    "Then you will want to run the above command:\n",
    "\n",
    "<img src=\"pic2.png\"/>\n",
    "\n",
    "Finally, when you enter back into the notebook (use the jupyter icon again), you should be able to run the below cell without any errors."
   ]
  },
  {
   "cell_type": "markdown",
   "metadata": {},
   "source": [
    "## 0. Problem Statement\n",
    "For this Starbucks capstone project, I want to see what factors influence whether a customer completes the Buy One Get One Free (BOGO) offer. Some people might be incentivized after viewing the offer information; some might complete the offer due to certain characteristics other than the offer."
   ]
  },
  {
   "cell_type": "code",
   "execution_count": 208,
   "metadata": {},
   "outputs": [],
   "source": [
    "import pandas as pd\n",
    "import numpy as np\n",
    "import math\n",
    "import json\n",
    "import matplotlib.pyplot as plt\n",
    "%matplotlib inline\n",
    "import seaborn as sns\n",
    "from datetime import datetime\n",
    "# read in the json files\n",
    "portfolio = pd.read_json('data/portfolio.json', orient='records', lines=True)\n",
    "profile = pd.read_json('data/profile.json', orient='records', lines=True)\n",
    "transcript = pd.read_json('data/transcript.json', orient='records', lines=True)"
   ]
  },
  {
   "cell_type": "markdown",
   "metadata": {},
   "source": [
    "## 1. Data Exploration & Visualization & Preprocessing"
   ]
  },
  {
   "cell_type": "markdown",
   "metadata": {},
   "source": [
    "### 1.1. portfolio - containing offer ids and meta data about each offer (duration, type, etc.)"
   ]
  },
  {
   "cell_type": "code",
   "execution_count": 2,
   "metadata": {},
   "outputs": [
    {
     "data": {
      "text/html": [
       "<div>\n",
       "<style scoped>\n",
       "    .dataframe tbody tr th:only-of-type {\n",
       "        vertical-align: middle;\n",
       "    }\n",
       "\n",
       "    .dataframe tbody tr th {\n",
       "        vertical-align: top;\n",
       "    }\n",
       "\n",
       "    .dataframe thead th {\n",
       "        text-align: right;\n",
       "    }\n",
       "</style>\n",
       "<table border=\"1\" class=\"dataframe\">\n",
       "  <thead>\n",
       "    <tr style=\"text-align: right;\">\n",
       "      <th></th>\n",
       "      <th>channels</th>\n",
       "      <th>difficulty</th>\n",
       "      <th>duration</th>\n",
       "      <th>id</th>\n",
       "      <th>offer_type</th>\n",
       "      <th>reward</th>\n",
       "    </tr>\n",
       "  </thead>\n",
       "  <tbody>\n",
       "    <tr>\n",
       "      <th>0</th>\n",
       "      <td>[email, mobile, social]</td>\n",
       "      <td>10</td>\n",
       "      <td>7</td>\n",
       "      <td>ae264e3637204a6fb9bb56bc8210ddfd</td>\n",
       "      <td>bogo</td>\n",
       "      <td>10</td>\n",
       "    </tr>\n",
       "    <tr>\n",
       "      <th>1</th>\n",
       "      <td>[web, email, mobile, social]</td>\n",
       "      <td>10</td>\n",
       "      <td>5</td>\n",
       "      <td>4d5c57ea9a6940dd891ad53e9dbe8da0</td>\n",
       "      <td>bogo</td>\n",
       "      <td>10</td>\n",
       "    </tr>\n",
       "    <tr>\n",
       "      <th>2</th>\n",
       "      <td>[web, email, mobile]</td>\n",
       "      <td>0</td>\n",
       "      <td>4</td>\n",
       "      <td>3f207df678b143eea3cee63160fa8bed</td>\n",
       "      <td>informational</td>\n",
       "      <td>0</td>\n",
       "    </tr>\n",
       "    <tr>\n",
       "      <th>3</th>\n",
       "      <td>[web, email, mobile]</td>\n",
       "      <td>5</td>\n",
       "      <td>7</td>\n",
       "      <td>9b98b8c7a33c4b65b9aebfe6a799e6d9</td>\n",
       "      <td>bogo</td>\n",
       "      <td>5</td>\n",
       "    </tr>\n",
       "    <tr>\n",
       "      <th>4</th>\n",
       "      <td>[web, email]</td>\n",
       "      <td>20</td>\n",
       "      <td>10</td>\n",
       "      <td>0b1e1539f2cc45b7b9fa7c272da2e1d7</td>\n",
       "      <td>discount</td>\n",
       "      <td>5</td>\n",
       "    </tr>\n",
       "  </tbody>\n",
       "</table>\n",
       "</div>"
      ],
      "text/plain": [
       "                       channels  difficulty  duration  \\\n",
       "0       [email, mobile, social]          10         7   \n",
       "1  [web, email, mobile, social]          10         5   \n",
       "2          [web, email, mobile]           0         4   \n",
       "3          [web, email, mobile]           5         7   \n",
       "4                  [web, email]          20        10   \n",
       "\n",
       "                                 id     offer_type  reward  \n",
       "0  ae264e3637204a6fb9bb56bc8210ddfd           bogo      10  \n",
       "1  4d5c57ea9a6940dd891ad53e9dbe8da0           bogo      10  \n",
       "2  3f207df678b143eea3cee63160fa8bed  informational       0  \n",
       "3  9b98b8c7a33c4b65b9aebfe6a799e6d9           bogo       5  \n",
       "4  0b1e1539f2cc45b7b9fa7c272da2e1d7       discount       5  "
      ]
     },
     "execution_count": 2,
     "metadata": {},
     "output_type": "execute_result"
    }
   ],
   "source": [
    "portfolio.head()"
   ]
  },
  {
   "cell_type": "code",
   "execution_count": 3,
   "metadata": {},
   "outputs": [
    {
     "data": {
      "text/html": [
       "<div>\n",
       "<style scoped>\n",
       "    .dataframe tbody tr th:only-of-type {\n",
       "        vertical-align: middle;\n",
       "    }\n",
       "\n",
       "    .dataframe tbody tr th {\n",
       "        vertical-align: top;\n",
       "    }\n",
       "\n",
       "    .dataframe thead th {\n",
       "        text-align: right;\n",
       "    }\n",
       "</style>\n",
       "<table border=\"1\" class=\"dataframe\">\n",
       "  <thead>\n",
       "    <tr style=\"text-align: right;\">\n",
       "      <th></th>\n",
       "      <th>difficulty</th>\n",
       "      <th>duration</th>\n",
       "      <th>reward</th>\n",
       "    </tr>\n",
       "  </thead>\n",
       "  <tbody>\n",
       "    <tr>\n",
       "      <th>count</th>\n",
       "      <td>10.000000</td>\n",
       "      <td>10.000000</td>\n",
       "      <td>10.000000</td>\n",
       "    </tr>\n",
       "    <tr>\n",
       "      <th>mean</th>\n",
       "      <td>7.700000</td>\n",
       "      <td>6.500000</td>\n",
       "      <td>4.200000</td>\n",
       "    </tr>\n",
       "    <tr>\n",
       "      <th>std</th>\n",
       "      <td>5.831905</td>\n",
       "      <td>2.321398</td>\n",
       "      <td>3.583915</td>\n",
       "    </tr>\n",
       "    <tr>\n",
       "      <th>min</th>\n",
       "      <td>0.000000</td>\n",
       "      <td>3.000000</td>\n",
       "      <td>0.000000</td>\n",
       "    </tr>\n",
       "    <tr>\n",
       "      <th>25%</th>\n",
       "      <td>5.000000</td>\n",
       "      <td>5.000000</td>\n",
       "      <td>2.000000</td>\n",
       "    </tr>\n",
       "    <tr>\n",
       "      <th>50%</th>\n",
       "      <td>8.500000</td>\n",
       "      <td>7.000000</td>\n",
       "      <td>4.000000</td>\n",
       "    </tr>\n",
       "    <tr>\n",
       "      <th>75%</th>\n",
       "      <td>10.000000</td>\n",
       "      <td>7.000000</td>\n",
       "      <td>5.000000</td>\n",
       "    </tr>\n",
       "    <tr>\n",
       "      <th>max</th>\n",
       "      <td>20.000000</td>\n",
       "      <td>10.000000</td>\n",
       "      <td>10.000000</td>\n",
       "    </tr>\n",
       "  </tbody>\n",
       "</table>\n",
       "</div>"
      ],
      "text/plain": [
       "       difficulty   duration     reward\n",
       "count   10.000000  10.000000  10.000000\n",
       "mean     7.700000   6.500000   4.200000\n",
       "std      5.831905   2.321398   3.583915\n",
       "min      0.000000   3.000000   0.000000\n",
       "25%      5.000000   5.000000   2.000000\n",
       "50%      8.500000   7.000000   4.000000\n",
       "75%     10.000000   7.000000   5.000000\n",
       "max     20.000000  10.000000  10.000000"
      ]
     },
     "execution_count": 3,
     "metadata": {},
     "output_type": "execute_result"
    }
   ],
   "source": [
    "portfolio.describe()"
   ]
  },
  {
   "cell_type": "code",
   "execution_count": 4,
   "metadata": {},
   "outputs": [
    {
     "data": {
      "text/plain": [
       "(10, 6)"
      ]
     },
     "execution_count": 4,
     "metadata": {},
     "output_type": "execute_result"
    }
   ],
   "source": [
    "# There are 10 different offers\n",
    "portfolio.shape"
   ]
  },
  {
   "cell_type": "markdown",
   "metadata": {},
   "source": [
    "Based on the bar chart **Average Difficulty by Offer Type**, we know informational offer type is the easiest offer since the minimum required spend to complete an offer is \\\\$0. On ther other hand, discount offer type on average requires roughly \\\\$11.75 to complete the offer."
   ]
  },
  {
   "cell_type": "code",
   "execution_count": 5,
   "metadata": {},
   "outputs": [
    {
     "data": {
      "image/png": "[encoded data removed]",
      "text/plain": [
       "<Figure size 432x288 with 1 Axes>"
      ]
     },
     "metadata": {
      "needs_background": "light"
     },
     "output_type": "display_data"
    }
   ],
   "source": [
    "portfolio.groupby(['offer_type']).mean()['difficulty'].plot.bar()\n",
    "plt.ylabel('difficulty')\n",
    "plt.xlabel('offer type')\n",
    "plt.title('Average Difficulty by Offer Type')\n",
    "plt.show()"
   ]
  },
  {
   "cell_type": "markdown",
   "metadata": {},
   "source": [
    "Based on the chart **Average Duration by Offer Type**, we know Starbucks usually runs discount offer type for a longer period (8.5 days) than others."
   ]
  },
  {
   "cell_type": "code",
   "execution_count": 6,
   "metadata": {},
   "outputs": [
    {
     "data": {
      "image/png": "[encoded data removed]",
      "text/plain": [
       "<Figure size 432x288 with 1 Axes>"
      ]
     },
     "metadata": {
      "needs_background": "light"
     },
     "output_type": "display_data"
    }
   ],
   "source": [
    "portfolio.groupby(['offer_type']).mean()['duration'].plot.bar()\n",
    "plt.xlabel('offer type')\n",
    "plt.ylabel('duration')\n",
    "plt.title('Average Duration by Offer Type')\n",
    "plt.show()"
   ]
  },
  {
   "cell_type": "markdown",
   "metadata": {},
   "source": [
    "Based on the chart **Average Reward by Offer Type**, we know bogo offer type has the highest dollar amount rewards (\\\\$7.5) compared to others."
   ]
  },
  {
   "cell_type": "code",
   "execution_count": 7,
   "metadata": {},
   "outputs": [
    {
     "data": {
      "image/png": "[encoded data removed]",
      "text/plain": [
       "<Figure size 432x288 with 1 Axes>"
      ]
     },
     "metadata": {
      "needs_background": "light"
     },
     "output_type": "display_data"
    }
   ],
   "source": [
    "portfolio.groupby(['offer_type']).mean()['reward'].plot.bar()\n",
    "plt.xlabel('offer type')\n",
    "plt.ylabel('reward')\n",
    "plt.title('Average Reward by Offer Type')\n",
    "plt.show()"
   ]
  },
  {
   "cell_type": "markdown",
   "metadata": {},
   "source": [
    "Note, for data preprocessing, we need to divide the list values in the **channels** column into separate columns as 4 dummy variables - email, mobile, social, and web."
   ]
  },
  {
   "cell_type": "code",
   "execution_count": 8,
   "metadata": {},
   "outputs": [],
   "source": [
    "# Convert list-like elements in channels column into 4 separate columns - email, mobile, social, and web.]\n",
    "dummy_channels = pd.get_dummies(portfolio['channels'].apply(pd.Series).stack()).sum(level=0)"
   ]
  },
  {
   "cell_type": "code",
   "execution_count": 9,
   "metadata": {},
   "outputs": [],
   "source": [
    "portfolio = pd.merge(portfolio, dummy_channels, left_index=True, right_index=True).drop(columns=['channels'])"
   ]
  },
  {
   "cell_type": "code",
   "execution_count": 10,
   "metadata": {},
   "outputs": [
    {
     "data": {
      "text/html": [
       "<div>\n",
       "<style scoped>\n",
       "    .dataframe tbody tr th:only-of-type {\n",
       "        vertical-align: middle;\n",
       "    }\n",
       "\n",
       "    .dataframe tbody tr th {\n",
       "        vertical-align: top;\n",
       "    }\n",
       "\n",
       "    .dataframe thead th {\n",
       "        text-align: right;\n",
       "    }\n",
       "</style>\n",
       "<table border=\"1\" class=\"dataframe\">\n",
       "  <thead>\n",
       "    <tr style=\"text-align: right;\">\n",
       "      <th></th>\n",
       "      <th>difficulty</th>\n",
       "      <th>duration</th>\n",
       "      <th>id</th>\n",
       "      <th>offer_type</th>\n",
       "      <th>reward</th>\n",
       "      <th>email</th>\n",
       "      <th>mobile</th>\n",
       "      <th>social</th>\n",
       "      <th>web</th>\n",
       "    </tr>\n",
       "  </thead>\n",
       "  <tbody>\n",
       "    <tr>\n",
       "      <th>0</th>\n",
       "      <td>10</td>\n",
       "      <td>7</td>\n",
       "      <td>ae264e3637204a6fb9bb56bc8210ddfd</td>\n",
       "      <td>bogo</td>\n",
       "      <td>10</td>\n",
       "      <td>1</td>\n",
       "      <td>1</td>\n",
       "      <td>1</td>\n",
       "      <td>0</td>\n",
       "    </tr>\n",
       "    <tr>\n",
       "      <th>1</th>\n",
       "      <td>10</td>\n",
       "      <td>5</td>\n",
       "      <td>4d5c57ea9a6940dd891ad53e9dbe8da0</td>\n",
       "      <td>bogo</td>\n",
       "      <td>10</td>\n",
       "      <td>1</td>\n",
       "      <td>1</td>\n",
       "      <td>1</td>\n",
       "      <td>1</td>\n",
       "    </tr>\n",
       "    <tr>\n",
       "      <th>2</th>\n",
       "      <td>0</td>\n",
       "      <td>4</td>\n",
       "      <td>3f207df678b143eea3cee63160fa8bed</td>\n",
       "      <td>informational</td>\n",
       "      <td>0</td>\n",
       "      <td>1</td>\n",
       "      <td>1</td>\n",
       "      <td>0</td>\n",
       "      <td>1</td>\n",
       "    </tr>\n",
       "    <tr>\n",
       "      <th>3</th>\n",
       "      <td>5</td>\n",
       "      <td>7</td>\n",
       "      <td>9b98b8c7a33c4b65b9aebfe6a799e6d9</td>\n",
       "      <td>bogo</td>\n",
       "      <td>5</td>\n",
       "      <td>1</td>\n",
       "      <td>1</td>\n",
       "      <td>0</td>\n",
       "      <td>1</td>\n",
       "    </tr>\n",
       "    <tr>\n",
       "      <th>4</th>\n",
       "      <td>20</td>\n",
       "      <td>10</td>\n",
       "      <td>0b1e1539f2cc45b7b9fa7c272da2e1d7</td>\n",
       "      <td>discount</td>\n",
       "      <td>5</td>\n",
       "      <td>1</td>\n",
       "      <td>0</td>\n",
       "      <td>0</td>\n",
       "      <td>1</td>\n",
       "    </tr>\n",
       "    <tr>\n",
       "      <th>5</th>\n",
       "      <td>7</td>\n",
       "      <td>7</td>\n",
       "      <td>2298d6c36e964ae4a3e7e9706d1fb8c2</td>\n",
       "      <td>discount</td>\n",
       "      <td>3</td>\n",
       "      <td>1</td>\n",
       "      <td>1</td>\n",
       "      <td>1</td>\n",
       "      <td>1</td>\n",
       "    </tr>\n",
       "    <tr>\n",
       "      <th>6</th>\n",
       "      <td>10</td>\n",
       "      <td>10</td>\n",
       "      <td>fafdcd668e3743c1bb461111dcafc2a4</td>\n",
       "      <td>discount</td>\n",
       "      <td>2</td>\n",
       "      <td>1</td>\n",
       "      <td>1</td>\n",
       "      <td>1</td>\n",
       "      <td>1</td>\n",
       "    </tr>\n",
       "    <tr>\n",
       "      <th>7</th>\n",
       "      <td>0</td>\n",
       "      <td>3</td>\n",
       "      <td>5a8bc65990b245e5a138643cd4eb9837</td>\n",
       "      <td>informational</td>\n",
       "      <td>0</td>\n",
       "      <td>1</td>\n",
       "      <td>1</td>\n",
       "      <td>1</td>\n",
       "      <td>0</td>\n",
       "    </tr>\n",
       "    <tr>\n",
       "      <th>8</th>\n",
       "      <td>5</td>\n",
       "      <td>5</td>\n",
       "      <td>f19421c1d4aa40978ebb69ca19b0e20d</td>\n",
       "      <td>bogo</td>\n",
       "      <td>5</td>\n",
       "      <td>1</td>\n",
       "      <td>1</td>\n",
       "      <td>1</td>\n",
       "      <td>1</td>\n",
       "    </tr>\n",
       "    <tr>\n",
       "      <th>9</th>\n",
       "      <td>10</td>\n",
       "      <td>7</td>\n",
       "      <td>2906b810c7d4411798c6938adc9daaa5</td>\n",
       "      <td>discount</td>\n",
       "      <td>2</td>\n",
       "      <td>1</td>\n",
       "      <td>1</td>\n",
       "      <td>0</td>\n",
       "      <td>1</td>\n",
       "    </tr>\n",
       "  </tbody>\n",
       "</table>\n",
       "</div>"
      ],
      "text/plain": [
       "   difficulty  duration                                id     offer_type  \\\n",
       "0          10         7  ae264e3637204a6fb9bb56bc8210ddfd           bogo   \n",
       "1          10         5  4d5c57ea9a6940dd891ad53e9dbe8da0           bogo   \n",
       "2           0         4  3f207df678b143eea3cee63160fa8bed  informational   \n",
       "3           5         7  9b98b8c7a33c4b65b9aebfe6a799e6d9           bogo   \n",
       "4          20        10  0b1e1539f2cc45b7b9fa7c272da2e1d7       discount   \n",
       "5           7         7  2298d6c36e964ae4a3e7e9706d1fb8c2       discount   \n",
       "6          10        10  fafdcd668e3743c1bb461111dcafc2a4       discount   \n",
       "7           0         3  5a8bc65990b245e5a138643cd4eb9837  informational   \n",
       "8           5         5  f19421c1d4aa40978ebb69ca19b0e20d           bogo   \n",
       "9          10         7  2906b810c7d4411798c6938adc9daaa5       discount   \n",
       "\n",
       "   reward  email  mobile  social  web  \n",
       "0      10      1       1       1    0  \n",
       "1      10      1       1       1    1  \n",
       "2       0      1       1       0    1  \n",
       "3       5      1       1       0    1  \n",
       "4       5      1       0       0    1  \n",
       "5       3      1       1       1    1  \n",
       "6       2      1       1       1    1  \n",
       "7       0      1       1       1    0  \n",
       "8       5      1       1       1    1  \n",
       "9       2      1       1       0    1  "
      ]
     },
     "execution_count": 10,
     "metadata": {},
     "output_type": "execute_result"
    }
   ],
   "source": [
    "portfolio"
   ]
  },
  {
   "cell_type": "code",
   "execution_count": 11,
   "metadata": {},
   "outputs": [],
   "source": [
    "# Rename id to offer id for joining dataframes later\n",
    "portfolio.rename(columns={'id':'offer id'}, inplace=True)"
   ]
  },
  {
   "cell_type": "markdown",
   "metadata": {},
   "source": [
    "### 1.2. profile - demographic data for each customer"
   ]
  },
  {
   "cell_type": "code",
   "execution_count": 12,
   "metadata": {},
   "outputs": [
    {
     "data": {
      "text/html": [
       "<div>\n",
       "<style scoped>\n",
       "    .dataframe tbody tr th:only-of-type {\n",
       "        vertical-align: middle;\n",
       "    }\n",
       "\n",
       "    .dataframe tbody tr th {\n",
       "        vertical-align: top;\n",
       "    }\n",
       "\n",
       "    .dataframe thead th {\n",
       "        text-align: right;\n",
       "    }\n",
       "</style>\n",
       "<table border=\"1\" class=\"dataframe\">\n",
       "  <thead>\n",
       "    <tr style=\"text-align: right;\">\n",
       "      <th></th>\n",
       "      <th>age</th>\n",
       "      <th>became_member_on</th>\n",
       "      <th>gender</th>\n",
       "      <th>id</th>\n",
       "      <th>income</th>\n",
       "    </tr>\n",
       "  </thead>\n",
       "  <tbody>\n",
       "    <tr>\n",
       "      <th>0</th>\n",
       "      <td>118</td>\n",
       "      <td>20170212</td>\n",
       "      <td>None</td>\n",
       "      <td>68be06ca386d4c31939f3a4f0e3dd783</td>\n",
       "      <td>NaN</td>\n",
       "    </tr>\n",
       "    <tr>\n",
       "      <th>1</th>\n",
       "      <td>55</td>\n",
       "      <td>20170715</td>\n",
       "      <td>F</td>\n",
       "      <td>0610b486422d4921ae7d2bf64640c50b</td>\n",
       "      <td>112000.0</td>\n",
       "    </tr>\n",
       "    <tr>\n",
       "      <th>2</th>\n",
       "      <td>118</td>\n",
       "      <td>20180712</td>\n",
       "      <td>None</td>\n",
       "      <td>38fe809add3b4fcf9315a9694bb96ff5</td>\n",
       "      <td>NaN</td>\n",
       "    </tr>\n",
       "    <tr>\n",
       "      <th>3</th>\n",
       "      <td>75</td>\n",
       "      <td>20170509</td>\n",
       "      <td>F</td>\n",
       "      <td>78afa995795e4d85b5d9ceeca43f5fef</td>\n",
       "      <td>100000.0</td>\n",
       "    </tr>\n",
       "    <tr>\n",
       "      <th>4</th>\n",
       "      <td>118</td>\n",
       "      <td>20170804</td>\n",
       "      <td>None</td>\n",
       "      <td>a03223e636434f42ac4c3df47e8bac43</td>\n",
       "      <td>NaN</td>\n",
       "    </tr>\n",
       "  </tbody>\n",
       "</table>\n",
       "</div>"
      ],
      "text/plain": [
       "   age  became_member_on gender                                id    income\n",
       "0  118          20170212   None  68be06ca386d4c31939f3a4f0e3dd783       NaN\n",
       "1   55          20170715      F  0610b486422d4921ae7d2bf64640c50b  112000.0\n",
       "2  118          20180712   None  38fe809add3b4fcf9315a9694bb96ff5       NaN\n",
       "3   75          20170509      F  78afa995795e4d85b5d9ceeca43f5fef  100000.0\n",
       "4  118          20170804   None  a03223e636434f42ac4c3df47e8bac43       NaN"
      ]
     },
     "execution_count": 12,
     "metadata": {},
     "output_type": "execute_result"
    }
   ],
   "source": [
    "profile.head()"
   ]
  },
  {
   "cell_type": "code",
   "execution_count": 13,
   "metadata": {},
   "outputs": [
    {
     "data": {
      "text/plain": [
       "(17000, 5)"
      ]
     },
     "execution_count": 13,
     "metadata": {},
     "output_type": "execute_result"
    }
   ],
   "source": [
    "profile.shape"
   ]
  },
  {
   "cell_type": "code",
   "execution_count": 14,
   "metadata": {},
   "outputs": [
    {
     "data": {
      "text/plain": [
       "age                 0.000000\n",
       "became_member_on    0.000000\n",
       "gender              0.127941\n",
       "id                  0.000000\n",
       "income              0.127941\n",
       "dtype: float64"
      ]
     },
     "execution_count": 14,
     "metadata": {},
     "output_type": "execute_result"
    }
   ],
   "source": [
    "# Percentage of missing values across variables\n",
    "profile.isnull().sum()/len(profile)"
   ]
  },
  {
   "cell_type": "markdown",
   "metadata": {},
   "source": [
    "Based on the above summary, `gender` and `income` have the exact same percentage of missing values, which might indicate a group of people who don't want to share private information or simply errors in the database. To investigate further, I extracted the data points where `gender` is missing."
   ]
  },
  {
   "cell_type": "code",
   "execution_count": 15,
   "metadata": {},
   "outputs": [],
   "source": [
    "gender_missing = profile[profile['gender'].isnull()]"
   ]
  },
  {
   "cell_type": "markdown",
   "metadata": {},
   "source": [
    "All `income` information are missing for data points where `gender` information are also unavailable."
   ]
  },
  {
   "cell_type": "code",
   "execution_count": 16,
   "metadata": {},
   "outputs": [
    {
     "data": {
      "text/plain": [
       "age                 0.0\n",
       "became_member_on    0.0\n",
       "gender              1.0\n",
       "id                  0.0\n",
       "income              1.0\n",
       "dtype: float64"
      ]
     },
     "execution_count": 16,
     "metadata": {},
     "output_type": "execute_result"
    }
   ],
   "source": [
    "gender_missing.isnull().sum()/len(gender_missing)"
   ]
  },
  {
   "cell_type": "markdown",
   "metadata": {},
   "source": [
    "All data points with `gender` and `income` missing have `age` as 118, confirming these data points are erroneous user profile. Therefore, For data preprocessing, I'll drop any data points with `gender` and `income` as missing values."
   ]
  },
  {
   "cell_type": "code",
   "execution_count": 17,
   "metadata": {},
   "outputs": [
    {
     "data": {
      "text/plain": [
       "118    2175\n",
       "Name: age, dtype: int64"
      ]
     },
     "execution_count": 17,
     "metadata": {},
     "output_type": "execute_result"
    }
   ],
   "source": [
    "gender_missing['age'].value_counts()"
   ]
  },
  {
   "cell_type": "code",
   "execution_count": 18,
   "metadata": {},
   "outputs": [],
   "source": [
    "# drop any data points with gender and income as missing values\n",
    "profile.dropna(subset=['gender', 'age'], inplace=True)"
   ]
  },
  {
   "cell_type": "code",
   "execution_count": 19,
   "metadata": {},
   "outputs": [
    {
     "data": {
      "text/plain": [
       "14825"
      ]
     },
     "execution_count": 19,
     "metadata": {},
     "output_type": "execute_result"
    }
   ],
   "source": [
    "# After dropping records with missing values, we have 14,825 customer profile left\n",
    "len(profile['id'].unique())"
   ]
  },
  {
   "cell_type": "markdown",
   "metadata": {},
   "source": [
    "Note, column `became_member_on` is cast as data type int not datetime. Hence, we need to convert the data type."
   ]
  },
  {
   "cell_type": "code",
   "execution_count": 20,
   "metadata": {},
   "outputs": [
    {
     "name": "stdout",
     "output_type": "stream",
     "text": [
      "<class 'pandas.core.frame.DataFrame'>\n",
      "Int64Index: 14825 entries, 1 to 16999\n",
      "Data columns (total 5 columns):\n",
      "age                 14825 non-null int64\n",
      "became_member_on    14825 non-null int64\n",
      "gender              14825 non-null object\n",
      "id                  14825 non-null object\n",
      "income              14825 non-null float64\n",
      "dtypes: float64(1), int64(2), object(2)\n",
      "memory usage: 694.9+ KB\n"
     ]
    }
   ],
   "source": [
    "profile.info()"
   ]
  },
  {
   "cell_type": "code",
   "execution_count": 21,
   "metadata": {},
   "outputs": [],
   "source": [
    "# Convert became_member_on from int to datetime\n",
    "profile['became_member_on'] = pd.to_datetime(profile['became_member_on'], format='%Y%m%d')"
   ]
  },
  {
   "cell_type": "markdown",
   "metadata": {},
   "source": [
    "According to **Customer Age Distribution** histogram, we can see that most of the customers' age ranges from 50 to 70 years old. "
   ]
  },
  {
   "cell_type": "code",
   "execution_count": 22,
   "metadata": {},
   "outputs": [
    {
     "data": {
      "image/png": "[encoded data removed]",
      "text/plain": [
       "<Figure size 432x288 with 1 Axes>"
      ]
     },
     "metadata": {
      "needs_background": "light"
     },
     "output_type": "display_data"
    }
   ],
   "source": [
    "plt.hist(profile['age'], bins=25)\n",
    "plt.title('Customer Age Distribution')\n",
    "plt.xlabel('Age')\n",
    "plt.ylabel('Count')\n",
    "plt.show()"
   ]
  },
  {
   "cell_type": "markdown",
   "metadata": {},
   "source": [
    "Breaking down the age distribution by gender, we can see that the age distribution across all gender are pretty similar. Although, for male customers, the people of age 20 to 30 are higher than other gender."
   ]
  },
  {
   "cell_type": "code",
   "execution_count": 23,
   "metadata": {},
   "outputs": [
    {
     "data": {
      "text/plain": [
       "array(['F', 'M', 'O'], dtype=object)"
      ]
     },
     "execution_count": 23,
     "metadata": {},
     "output_type": "execute_result"
    }
   ],
   "source": [
    "profile['gender'].unique()"
   ]
  },
  {
   "cell_type": "code",
   "execution_count": 24,
   "metadata": {},
   "outputs": [
    {
     "data": {
      "image/png": "[encoded data removed]",
      "text/plain": [
       "<Figure size 432x288 with 1 Axes>"
      ]
     },
     "metadata": {
      "needs_background": "light"
     },
     "output_type": "display_data"
    }
   ],
   "source": [
    "sns.kdeplot(profile[profile['gender'] == 'F']['age'], label = 'Female')\n",
    "sns.kdeplot(profile[profile['gender'] == 'M']['age'], label = 'Male')\n",
    "sns.kdeplot(profile[profile['gender'] == 'O']['age'], label = 'Other')\n",
    "plt.xlabel('Age')\n",
    "plt.ylabel('Density')\n",
    "plt.title('Age Distribution by Gender')\n",
    "plt.show()"
   ]
  },
  {
   "cell_type": "markdown",
   "metadata": {},
   "source": [
    "Based on **Customer Income Distribution** chart, we know that it's a right-skewed distribution, meaning the mean (\\\\$65,405) is greater than the median (\\\\$64,000). "
   ]
  },
  {
   "cell_type": "code",
   "execution_count": 25,
   "metadata": {},
   "outputs": [
    {
     "data": {
      "image/png": "[encoded data removed]",
      "text/plain": [
       "<Figure size 432x288 with 1 Axes>"
      ]
     },
     "metadata": {
      "needs_background": "light"
     },
     "output_type": "display_data"
    }
   ],
   "source": [
    "plt.hist(profile['income'], bins=25)\n",
    "plt.title('Customer Income Distribution')\n",
    "plt.xlabel('Income')\n",
    "plt.ylabel('Count')\n",
    "plt.show()"
   ]
  },
  {
   "cell_type": "code",
   "execution_count": 26,
   "metadata": {},
   "outputs": [
    {
     "name": "stdout",
     "output_type": "stream",
     "text": [
      "Maximum income: $120,000\n",
      "Minimum income: $30,000\n",
      "Average income: $65,405\n",
      "Median income: $64,000\n"
     ]
    }
   ],
   "source": [
    "print(\"Maximum income: ${:,.0f}\".format(profile['income'].max()))\n",
    "print(\"Minimum income: ${:,.0f}\".format(profile['income'].min()))\n",
    "print(\"Average income: ${:,.0f}\".format(profile['income'].mean()))\n",
    "print(\"Median income: ${:,.0f}\".format(profile['income'].median()))"
   ]
  },
  {
   "cell_type": "markdown",
   "metadata": {},
   "source": [
    "When breaking down the income distribution by gender, we can see that the income of female customers is relatively normal distributed. Most of the female customers have income range from \\\\$70k to \\\\$85k. As for male customers, their  income mostly concentrated between \\\\$50k and \\\\$80k. For other customers, their income mostly range from \\\\$55k to \\\\$70k. Also, there are more female customer with income more than \\\\$80k than male and other customers."
   ]
  },
  {
   "cell_type": "code",
   "execution_count": 27,
   "metadata": {},
   "outputs": [
    {
     "data": {
      "image/png": "[encoded data removed]",
      "text/plain": [
       "<Figure size 432x288 with 1 Axes>"
      ]
     },
     "metadata": {
      "needs_background": "light"
     },
     "output_type": "display_data"
    }
   ],
   "source": [
    "sns.kdeplot(profile[profile['gender'] == 'F']['income'], label = 'Female')\n",
    "sns.kdeplot(profile[profile['gender'] == 'M']['income'], label = 'Male')\n",
    "sns.kdeplot(profile[profile['gender'] == 'O']['income'], label = 'Other')\n",
    "plt.xlabel('Income')\n",
    "plt.ylabel('Density')\n",
    "plt.title('Income Distribution by Gender')\n",
    "plt.show()"
   ]
  },
  {
   "cell_type": "code",
   "execution_count": 28,
   "metadata": {},
   "outputs": [
    {
     "data": {
      "text/plain": [
       "Index(['age', 'became_member_on', 'gender', 'id', 'income'], dtype='object')"
      ]
     },
     "execution_count": 28,
     "metadata": {},
     "output_type": "execute_result"
    }
   ],
   "source": [
    "profile.columns"
   ]
  },
  {
   "cell_type": "code",
   "execution_count": 29,
   "metadata": {},
   "outputs": [],
   "source": [
    "# Rename id to customer id for joining dataframes later\n",
    "profile.rename(columns={'id':'customer id'}, inplace=True)"
   ]
  },
  {
   "cell_type": "markdown",
   "metadata": {},
   "source": [
    "### 1.3. transcript - records for transactions, offers received, offers viewed, and offers completed"
   ]
  },
  {
   "cell_type": "code",
   "execution_count": 30,
   "metadata": {},
   "outputs": [
    {
     "data": {
      "text/html": [
       "<div>\n",
       "<style scoped>\n",
       "    .dataframe tbody tr th:only-of-type {\n",
       "        vertical-align: middle;\n",
       "    }\n",
       "\n",
       "    .dataframe tbody tr th {\n",
       "        vertical-align: top;\n",
       "    }\n",
       "\n",
       "    .dataframe thead th {\n",
       "        text-align: right;\n",
       "    }\n",
       "</style>\n",
       "<table border=\"1\" class=\"dataframe\">\n",
       "  <thead>\n",
       "    <tr style=\"text-align: right;\">\n",
       "      <th></th>\n",
       "      <th>event</th>\n",
       "      <th>person</th>\n",
       "      <th>time</th>\n",
       "      <th>value</th>\n",
       "    </tr>\n",
       "  </thead>\n",
       "  <tbody>\n",
       "    <tr>\n",
       "      <th>0</th>\n",
       "      <td>offer received</td>\n",
       "      <td>78afa995795e4d85b5d9ceeca43f5fef</td>\n",
       "      <td>0</td>\n",
       "      <td>{'offer id': '9b98b8c7a33c4b65b9aebfe6a799e6d9'}</td>\n",
       "    </tr>\n",
       "    <tr>\n",
       "      <th>1</th>\n",
       "      <td>offer received</td>\n",
       "      <td>a03223e636434f42ac4c3df47e8bac43</td>\n",
       "      <td>0</td>\n",
       "      <td>{'offer id': '0b1e1539f2cc45b7b9fa7c272da2e1d7'}</td>\n",
       "    </tr>\n",
       "    <tr>\n",
       "      <th>2</th>\n",
       "      <td>offer received</td>\n",
       "      <td>e2127556f4f64592b11af22de27a7932</td>\n",
       "      <td>0</td>\n",
       "      <td>{'offer id': '2906b810c7d4411798c6938adc9daaa5'}</td>\n",
       "    </tr>\n",
       "    <tr>\n",
       "      <th>3</th>\n",
       "      <td>offer received</td>\n",
       "      <td>8ec6ce2a7e7949b1bf142def7d0e0586</td>\n",
       "      <td>0</td>\n",
       "      <td>{'offer id': 'fafdcd668e3743c1bb461111dcafc2a4'}</td>\n",
       "    </tr>\n",
       "    <tr>\n",
       "      <th>4</th>\n",
       "      <td>offer received</td>\n",
       "      <td>68617ca6246f4fbc85e91a2a49552598</td>\n",
       "      <td>0</td>\n",
       "      <td>{'offer id': '4d5c57ea9a6940dd891ad53e9dbe8da0'}</td>\n",
       "    </tr>\n",
       "  </tbody>\n",
       "</table>\n",
       "</div>"
      ],
      "text/plain": [
       "            event                            person  time  \\\n",
       "0  offer received  78afa995795e4d85b5d9ceeca43f5fef     0   \n",
       "1  offer received  a03223e636434f42ac4c3df47e8bac43     0   \n",
       "2  offer received  e2127556f4f64592b11af22de27a7932     0   \n",
       "3  offer received  8ec6ce2a7e7949b1bf142def7d0e0586     0   \n",
       "4  offer received  68617ca6246f4fbc85e91a2a49552598     0   \n",
       "\n",
       "                                              value  \n",
       "0  {'offer id': '9b98b8c7a33c4b65b9aebfe6a799e6d9'}  \n",
       "1  {'offer id': '0b1e1539f2cc45b7b9fa7c272da2e1d7'}  \n",
       "2  {'offer id': '2906b810c7d4411798c6938adc9daaa5'}  \n",
       "3  {'offer id': 'fafdcd668e3743c1bb461111dcafc2a4'}  \n",
       "4  {'offer id': '4d5c57ea9a6940dd891ad53e9dbe8da0'}  "
      ]
     },
     "execution_count": 30,
     "metadata": {},
     "output_type": "execute_result"
    }
   ],
   "source": [
    "transcript.head()"
   ]
  },
  {
   "cell_type": "code",
   "execution_count": 31,
   "metadata": {},
   "outputs": [
    {
     "data": {
      "text/plain": [
       "(306534, 4)"
      ]
     },
     "execution_count": 31,
     "metadata": {},
     "output_type": "execute_result"
    }
   ],
   "source": [
    "transcript.shape"
   ]
  },
  {
   "cell_type": "code",
   "execution_count": 32,
   "metadata": {},
   "outputs": [],
   "source": [
    "# Rename person to customer id for joining dataframes later\n",
    "transcript.rename(columns={'person':'customer id'}, inplace=True)"
   ]
  },
  {
   "cell_type": "code",
   "execution_count": 33,
   "metadata": {},
   "outputs": [
    {
     "data": {
      "text/plain": [
       "transaction        138953\n",
       "offer received      76277\n",
       "offer viewed        57725\n",
       "offer completed     33579\n",
       "Name: event, dtype: int64"
      ]
     },
     "execution_count": 33,
     "metadata": {},
     "output_type": "execute_result"
    }
   ],
   "source": [
    "transcript['event'].value_counts()"
   ]
  },
  {
   "cell_type": "markdown",
   "metadata": {},
   "source": [
    "For data preprocessing, I'll split the dict value column `value` into separate columns - `offer id`, `reward`, and `amount`."
   ]
  },
  {
   "cell_type": "code",
   "execution_count": 34,
   "metadata": {},
   "outputs": [],
   "source": [
    "value_split = transcript['value'].apply(pd.Series)"
   ]
  },
  {
   "cell_type": "markdown",
   "metadata": {},
   "source": [
    "After the splitting of column `value`, we can see that there are duplicated offer id columns - `offer id` and `offer_id`. To be consistent, I'm going to combine these 2 columns into `offer id`."
   ]
  },
  {
   "cell_type": "code",
   "execution_count": 35,
   "metadata": {},
   "outputs": [
    {
     "data": {
      "text/html": [
       "<div>\n",
       "<style scoped>\n",
       "    .dataframe tbody tr th:only-of-type {\n",
       "        vertical-align: middle;\n",
       "    }\n",
       "\n",
       "    .dataframe tbody tr th {\n",
       "        vertical-align: top;\n",
       "    }\n",
       "\n",
       "    .dataframe thead th {\n",
       "        text-align: right;\n",
       "    }\n",
       "</style>\n",
       "<table border=\"1\" class=\"dataframe\">\n",
       "  <thead>\n",
       "    <tr style=\"text-align: right;\">\n",
       "      <th></th>\n",
       "      <th>offer id</th>\n",
       "      <th>amount</th>\n",
       "      <th>offer_id</th>\n",
       "      <th>reward</th>\n",
       "    </tr>\n",
       "  </thead>\n",
       "  <tbody>\n",
       "    <tr>\n",
       "      <th>0</th>\n",
       "      <td>9b98b8c7a33c4b65b9aebfe6a799e6d9</td>\n",
       "      <td>NaN</td>\n",
       "      <td>NaN</td>\n",
       "      <td>NaN</td>\n",
       "    </tr>\n",
       "    <tr>\n",
       "      <th>1</th>\n",
       "      <td>0b1e1539f2cc45b7b9fa7c272da2e1d7</td>\n",
       "      <td>NaN</td>\n",
       "      <td>NaN</td>\n",
       "      <td>NaN</td>\n",
       "    </tr>\n",
       "    <tr>\n",
       "      <th>2</th>\n",
       "      <td>2906b810c7d4411798c6938adc9daaa5</td>\n",
       "      <td>NaN</td>\n",
       "      <td>NaN</td>\n",
       "      <td>NaN</td>\n",
       "    </tr>\n",
       "  </tbody>\n",
       "</table>\n",
       "</div>"
      ],
      "text/plain": [
       "                           offer id  amount offer_id  reward\n",
       "0  9b98b8c7a33c4b65b9aebfe6a799e6d9     NaN      NaN     NaN\n",
       "1  0b1e1539f2cc45b7b9fa7c272da2e1d7     NaN      NaN     NaN\n",
       "2  2906b810c7d4411798c6938adc9daaa5     NaN      NaN     NaN"
      ]
     },
     "execution_count": 35,
     "metadata": {},
     "output_type": "execute_result"
    }
   ],
   "source": [
    "value_split.head(3)"
   ]
  },
  {
   "cell_type": "code",
   "execution_count": 36,
   "metadata": {},
   "outputs": [],
   "source": [
    "value_split.loc[((value_split['offer id'].isnull()) & \n",
    "                 (value_split['offer_id'].notnull())), 'offer id'] = value_split['offer_id']"
   ]
  },
  {
   "cell_type": "code",
   "execution_count": 37,
   "metadata": {},
   "outputs": [],
   "source": [
    "value_split.drop(columns=['offer_id'], inplace=True)"
   ]
  },
  {
   "cell_type": "code",
   "execution_count": 38,
   "metadata": {},
   "outputs": [],
   "source": [
    "transcript = pd.concat([transcript, value_split], axis=1).drop(columns=['value'])"
   ]
  },
  {
   "cell_type": "markdown",
   "metadata": {},
   "source": [
    "### 1.4. Combine the 3 dataframes and perform further data preprocessing"
   ]
  },
  {
   "cell_type": "code",
   "execution_count": 59,
   "metadata": {},
   "outputs": [],
   "source": [
    "df = pd.merge(transcript, portfolio, how='left', on='offer id')\n",
    "df = pd.merge(df, profile, how='left', on='customer id')"
   ]
  },
  {
   "cell_type": "code",
   "execution_count": 61,
   "metadata": {},
   "outputs": [
    {
     "data": {
      "text/html": [
       "<div>\n",
       "<style scoped>\n",
       "    .dataframe tbody tr th:only-of-type {\n",
       "        vertical-align: middle;\n",
       "    }\n",
       "\n",
       "    .dataframe tbody tr th {\n",
       "        vertical-align: top;\n",
       "    }\n",
       "\n",
       "    .dataframe thead th {\n",
       "        text-align: right;\n",
       "    }\n",
       "</style>\n",
       "<table border=\"1\" class=\"dataframe\">\n",
       "  <thead>\n",
       "    <tr style=\"text-align: right;\">\n",
       "      <th></th>\n",
       "      <th>event</th>\n",
       "      <th>customer id</th>\n",
       "      <th>time</th>\n",
       "      <th>offer id</th>\n",
       "      <th>amount</th>\n",
       "      <th>reward_x</th>\n",
       "      <th>difficulty</th>\n",
       "      <th>duration</th>\n",
       "      <th>offer_type</th>\n",
       "      <th>reward_y</th>\n",
       "      <th>email</th>\n",
       "      <th>mobile</th>\n",
       "      <th>social</th>\n",
       "      <th>web</th>\n",
       "      <th>age</th>\n",
       "      <th>became_member_on</th>\n",
       "      <th>gender</th>\n",
       "      <th>income</th>\n",
       "    </tr>\n",
       "  </thead>\n",
       "  <tbody>\n",
       "    <tr>\n",
       "      <th>0</th>\n",
       "      <td>offer received</td>\n",
       "      <td>78afa995795e4d85b5d9ceeca43f5fef</td>\n",
       "      <td>0</td>\n",
       "      <td>9b98b8c7a33c4b65b9aebfe6a799e6d9</td>\n",
       "      <td>NaN</td>\n",
       "      <td>NaN</td>\n",
       "      <td>5.0</td>\n",
       "      <td>7.0</td>\n",
       "      <td>bogo</td>\n",
       "      <td>5.0</td>\n",
       "      <td>1.0</td>\n",
       "      <td>1.0</td>\n",
       "      <td>0.0</td>\n",
       "      <td>1.0</td>\n",
       "      <td>75.0</td>\n",
       "      <td>2017-05-09</td>\n",
       "      <td>F</td>\n",
       "      <td>100000.0</td>\n",
       "    </tr>\n",
       "    <tr>\n",
       "      <th>1</th>\n",
       "      <td>offer received</td>\n",
       "      <td>a03223e636434f42ac4c3df47e8bac43</td>\n",
       "      <td>0</td>\n",
       "      <td>0b1e1539f2cc45b7b9fa7c272da2e1d7</td>\n",
       "      <td>NaN</td>\n",
       "      <td>NaN</td>\n",
       "      <td>20.0</td>\n",
       "      <td>10.0</td>\n",
       "      <td>discount</td>\n",
       "      <td>5.0</td>\n",
       "      <td>1.0</td>\n",
       "      <td>0.0</td>\n",
       "      <td>0.0</td>\n",
       "      <td>1.0</td>\n",
       "      <td>NaN</td>\n",
       "      <td>NaT</td>\n",
       "      <td>NaN</td>\n",
       "      <td>NaN</td>\n",
       "    </tr>\n",
       "    <tr>\n",
       "      <th>2</th>\n",
       "      <td>offer received</td>\n",
       "      <td>e2127556f4f64592b11af22de27a7932</td>\n",
       "      <td>0</td>\n",
       "      <td>2906b810c7d4411798c6938adc9daaa5</td>\n",
       "      <td>NaN</td>\n",
       "      <td>NaN</td>\n",
       "      <td>10.0</td>\n",
       "      <td>7.0</td>\n",
       "      <td>discount</td>\n",
       "      <td>2.0</td>\n",
       "      <td>1.0</td>\n",
       "      <td>1.0</td>\n",
       "      <td>0.0</td>\n",
       "      <td>1.0</td>\n",
       "      <td>68.0</td>\n",
       "      <td>2018-04-26</td>\n",
       "      <td>M</td>\n",
       "      <td>70000.0</td>\n",
       "    </tr>\n",
       "  </tbody>\n",
       "</table>\n",
       "</div>"
      ],
      "text/plain": [
       "            event                       customer id  time  \\\n",
       "0  offer received  78afa995795e4d85b5d9ceeca43f5fef     0   \n",
       "1  offer received  a03223e636434f42ac4c3df47e8bac43     0   \n",
       "2  offer received  e2127556f4f64592b11af22de27a7932     0   \n",
       "\n",
       "                           offer id  amount  reward_x  difficulty  duration  \\\n",
       "0  9b98b8c7a33c4b65b9aebfe6a799e6d9     NaN       NaN         5.0       7.0   \n",
       "1  0b1e1539f2cc45b7b9fa7c272da2e1d7     NaN       NaN        20.0      10.0   \n",
       "2  2906b810c7d4411798c6938adc9daaa5     NaN       NaN        10.0       7.0   \n",
       "\n",
       "  offer_type  reward_y  email  mobile  social  web   age became_member_on  \\\n",
       "0       bogo       5.0    1.0     1.0     0.0  1.0  75.0       2017-05-09   \n",
       "1   discount       5.0    1.0     0.0     0.0  1.0   NaN              NaT   \n",
       "2   discount       2.0    1.0     1.0     0.0  1.0  68.0       2018-04-26   \n",
       "\n",
       "  gender    income  \n",
       "0      F  100000.0  \n",
       "1    NaN       NaN  \n",
       "2      M   70000.0  "
      ]
     },
     "execution_count": 61,
     "metadata": {},
     "output_type": "execute_result"
    }
   ],
   "source": [
    "df.head(3)"
   ]
  },
  {
   "cell_type": "markdown",
   "metadata": {},
   "source": [
    "Under the project scope, we only care about the people who completed or being provided the bogo offer. Therefore, I will filter for records with `offer_type` as **bogo**."
   ]
  },
  {
   "cell_type": "code",
   "execution_count": 73,
   "metadata": {},
   "outputs": [],
   "source": [
    "df_bogo = df[df['offer_type'] == 'bogo']"
   ]
  },
  {
   "cell_type": "code",
   "execution_count": 74,
   "metadata": {},
   "outputs": [
    {
     "data": {
      "text/plain": [
       "(71617, 18)"
      ]
     },
     "execution_count": 74,
     "metadata": {},
     "output_type": "execute_result"
    }
   ],
   "source": [
    "df_bogo.shape"
   ]
  },
  {
   "cell_type": "code",
   "execution_count": 75,
   "metadata": {},
   "outputs": [
    {
     "data": {
      "text/plain": [
       "offer received     30499\n",
       "offer viewed       25449\n",
       "offer completed    15669\n",
       "Name: event, dtype: int64"
      ]
     },
     "execution_count": 75,
     "metadata": {},
     "output_type": "execute_result"
    }
   ],
   "source": [
    "df_bogo['event'].value_counts()"
   ]
  },
  {
   "cell_type": "markdown",
   "metadata": {},
   "source": [
    "There are 4 scenarios we need to capture:\n",
    "1. people who didnt view but completed the offer\n",
    "2. people who viewed the offer and completed the offer\n",
    "3. people who viewed the offer but didn't complete the offer\n",
    "4. people who didn't view and didn't completed the offer"
   ]
  },
  {
   "cell_type": "code",
   "execution_count": 136,
   "metadata": {},
   "outputs": [],
   "source": [
    "bogo_r = df_bogo[df_bogo['event'] == 'offer received'].reset_index(drop=True)\n",
    "bogo_c = df_bogo[df_bogo['event'] == 'offer completed'].reset_index(drop=True)\n",
    "bogo_v = df_bogo[df_bogo['event'] == 'offer viewed'].reset_index(drop=True)"
   ]
  },
  {
   "cell_type": "code",
   "execution_count": 137,
   "metadata": {},
   "outputs": [
    {
     "data": {
      "text/plain": [
       "984"
      ]
     },
     "execution_count": 137,
     "metadata": {},
     "output_type": "execute_result"
    }
   ],
   "source": [
    "# There are 984 customers who received the offer but didn't view the information\n",
    "len(set(bogo_r['customer id'].unique()) - set(bogo_v['customer id'].unique()))"
   ]
  },
  {
   "cell_type": "code",
   "execution_count": 138,
   "metadata": {},
   "outputs": [
    {
     "data": {
      "text/plain": [
       "525"
      ]
     },
     "execution_count": 138,
     "metadata": {},
     "output_type": "execute_result"
    }
   ],
   "source": [
    "# There are 525 customers who didn't view the offer and didn't complete the offer\n",
    "len(set(bogo_r['customer id'].unique()) - set(bogo_v['customer id'].unique()) - set(bogo_c['customer id'].unique()))"
   ]
  },
  {
   "cell_type": "code",
   "execution_count": 139,
   "metadata": {},
   "outputs": [
    {
     "data": {
      "text/plain": [
       "5204"
      ]
     },
     "execution_count": 139,
     "metadata": {},
     "output_type": "execute_result"
    }
   ],
   "source": [
    "# There are 5,204 customers who viewed the offer information but never completed the offer\n",
    "len(set(bogo_v['customer id'].unique()) - set(bogo_c['customer id'].unique()))"
   ]
  },
  {
   "cell_type": "code",
   "execution_count": 140,
   "metadata": {},
   "outputs": [
    {
     "data": {
      "text/plain": [
       "459"
      ]
     },
     "execution_count": 140,
     "metadata": {},
     "output_type": "execute_result"
    }
   ],
   "source": [
    "# There are 459 customers who never viewed the offer information but completed the offer anyway\n",
    "len(set(bogo_c['customer id'].unique()) - set(bogo_v['customer id'].unique()))"
   ]
  },
  {
   "cell_type": "markdown",
   "metadata": {},
   "source": [
    "For people who completed the BOGO offers (scenario 1 & 2), we need to first figure out whether they viewed the offer or not."
   ]
  },
  {
   "cell_type": "code",
   "execution_count": 141,
   "metadata": {},
   "outputs": [],
   "source": [
    "bogo_c['offer_viewed'] = 0\n",
    "viewed_customer_ids = list(bogo_v['customer id'].unique())\n",
    "idx_to_remove_for_bogo_v = []\n",
    "for i in range(len(bogo_c)):\n",
    "    customer_id = bogo_c.iloc[i]['customer id']\n",
    "    offer_id = bogo_c.iloc[i]['offer id']\n",
    "    # Check whether the customer ever viewed any offers\n",
    "    if customer_id in viewed_customer_ids:\n",
    "        # Extract all offers viewed by the customer\n",
    "        offer_ids_viewed = bogo_v[bogo_v['customer id'] == customer_id]['offer id'].values.tolist()\n",
    "        # Check whether the customer viewed the offer\n",
    "        if offer_id in offer_ids_viewed:\n",
    "            bogo_c.loc[i, 'offer_viewed'] = 1\n",
    "            idx_to_remove_for_bogo_v.extend(list(bogo_v[(bogo_v['customer id'] == customer_id) & (bogo_v['offer id'] == offer_id)].index))"
   ]
  },
  {
   "cell_type": "code",
   "execution_count": 142,
   "metadata": {},
   "outputs": [],
   "source": [
    "bogo_c['offer_completed'] = 1"
   ]
  },
  {
   "cell_type": "markdown",
   "metadata": {},
   "source": [
    "For people who viewed the offers, we need to figure out who didn't complete the offer (scenario 3)."
   ]
  },
  {
   "cell_type": "code",
   "execution_count": 146,
   "metadata": {},
   "outputs": [],
   "source": [
    "# Remove duplicated index\n",
    "idx_to_remove_for_bogo_v = list(set(idx_to_remove_for_bogo_v))"
   ]
  },
  {
   "cell_type": "code",
   "execution_count": 156,
   "metadata": {},
   "outputs": [],
   "source": [
    "# Drop records the are already counted in bogo_c\n",
    "bogo_v1 = bogo_v.drop(index=idx_to_remove_for_bogo_v)"
   ]
  },
  {
   "cell_type": "code",
   "execution_count": 172,
   "metadata": {},
   "outputs": [],
   "source": [
    "# The rest of the records are people who viewed the offer but didn't complete the offer\n",
    "bogo_v1['offer_viewed'] = 1\n",
    "bogo_v1['offer_completed'] = 0"
   ]
  },
  {
   "cell_type": "code",
   "execution_count": 175,
   "metadata": {},
   "outputs": [],
   "source": [
    "# combine bogo_c and bogo_v1\n",
    "master_df = pd.concat([bogo_c, bogo_v1], axis=0)"
   ]
  },
  {
   "cell_type": "code",
   "execution_count": 182,
   "metadata": {},
   "outputs": [
    {
     "data": {
      "text/plain": [
       "0"
      ]
     },
     "execution_count": 182,
     "metadata": {},
     "output_type": "execute_result"
    }
   ],
   "source": [
    "# Double check we haven't include any records from scenario 4\n",
    "(master_df['offer_viewed']+ master_df['offer_completed'] == 0).sum()"
   ]
  },
  {
   "cell_type": "markdown",
   "metadata": {},
   "source": [
    "Finally, we need to know who didn't view and didn't complete the offer (scenario 4)"
   ]
  },
  {
   "cell_type": "code",
   "execution_count": 183,
   "metadata": {},
   "outputs": [
    {
     "data": {
      "text/plain": [
       "30499"
      ]
     },
     "execution_count": 183,
     "metadata": {},
     "output_type": "execute_result"
    }
   ],
   "source": [
    "len(bogo_r)"
   ]
  },
  {
   "cell_type": "code",
   "execution_count": 186,
   "metadata": {},
   "outputs": [
    {
     "data": {
      "text/plain": [
       "set()"
      ]
     },
     "execution_count": 186,
     "metadata": {},
     "output_type": "execute_result"
    }
   ],
   "source": [
    "# bogo_r contains all customer ids from master df\n",
    "set(master_df['customer id']) - set(bogo_r['customer id'])"
   ]
  },
  {
   "cell_type": "code",
   "execution_count": 188,
   "metadata": {},
   "outputs": [
    {
     "data": {
      "text/plain": [
       "525"
      ]
     },
     "execution_count": 188,
     "metadata": {},
     "output_type": "execute_result"
    }
   ],
   "source": [
    "len(set(bogo_r['customer id']) - set(master_df['customer id']))"
   ]
  },
  {
   "cell_type": "code",
   "execution_count": 189,
   "metadata": {},
   "outputs": [],
   "source": [
    "idx_to_remove_for_bogo_r = []\n",
    "customer_ids_in_master_df = list(set(master_df['customer id']))\n",
    "for i in range(len(bogo_r)):\n",
    "    customer_id = bogo_r.iloc[i]['customer id']\n",
    "    offer_id = bogo_r.iloc[i]['offer id']\n",
    "    # Check whether the customer id is already in master_df\n",
    "    if customer_id in customer_ids_in_master_df:\n",
    "        # Extract all offer ids covered by master_df for this customer\n",
    "        offer_ids_covered = master_df[master_df['customer id'] == customer_id]['offer id'].values.tolist()\n",
    "        # Check whether the offer id is covered by one of the scenarios; if yes, we need to remove the record\n",
    "        if offer_id in offer_ids_covered:\n",
    "            idx_to_remove_for_bogo_r.append(i)"
   ]
  },
  {
   "cell_type": "code",
   "execution_count": 194,
   "metadata": {},
   "outputs": [],
   "source": [
    "# Drop the scenarios (1,2,3) we already covered in master_df\n",
    "bogo_r1 = bogo_r.drop(index=idx_to_remove_for_bogo_r)"
   ]
  },
  {
   "cell_type": "code",
   "execution_count": 195,
   "metadata": {},
   "outputs": [],
   "source": [
    "# The rest of the records are people who didn't view and didn't complete the offer\n",
    "bogo_r1['offer_viewed'] = 0\n",
    "bogo_r1['offer_completed'] = 0"
   ]
  },
  {
   "cell_type": "code",
   "execution_count": 196,
   "metadata": {},
   "outputs": [],
   "source": [
    "# combine master_df and bogo_r1\n",
    "master_df = pd.concat([master_df, bogo_r1], axis=0)"
   ]
  },
  {
   "cell_type": "markdown",
   "metadata": {},
   "source": [
    "Additional steps to conduct feature engineering and data cleaning.\n",
    "> - remove unnecessary columns - 'event', 'customer id', 'offer id', 'reward_x', 'amount', 'offer_type'\n",
    "> - rename column `reward_y` to `reward`\n",
    "> - extract feature `membership_days` from `became_member_on`; then drop column `became_member_on`\n",
    "> - convert gender into dummy variables - M, F, and O; ; then drop column `gender`\n",
    "> - handle missing values; drop the records with missing values since they are from the same records"
   ]
  },
  {
   "cell_type": "code",
   "execution_count": 199,
   "metadata": {},
   "outputs": [],
   "source": [
    "columns_to_remove = ['event', 'customer id', 'offer id', 'reward_x', 'amount', 'offer_type']"
   ]
  },
  {
   "cell_type": "code",
   "execution_count": 201,
   "metadata": {},
   "outputs": [],
   "source": [
    "# remove unnecessary columns - 'event', 'customer id', 'offer id', 'reward_x', 'amount', 'offer_type'\n",
    "master_df = master_df.drop(columns=columns_to_remove)"
   ]
  },
  {
   "cell_type": "code",
   "execution_count": 206,
   "metadata": {},
   "outputs": [],
   "source": [
    "# rename column reward_y to rewar\n",
    "master_df.rename(columns={'reward_y':'reward'}, inplace=True)"
   ]
  },
  {
   "cell_type": "code",
   "execution_count": 220,
   "metadata": {},
   "outputs": [],
   "source": [
    "# extract feature membership_days from became_member_on; then drop column became_member_on\n",
    "master_df['membership_days'] = (datetime.today() - master_df['became_member_on'])\n",
    "master_df['membership_days'] = master_df['membership_days'].apply(lambda x: x.days)\n",
    "master_df = master_df.drop(columns=['became_member_on'])"
   ]
  },
  {
   "cell_type": "code",
   "execution_count": 222,
   "metadata": {},
   "outputs": [],
   "source": [
    "# convert gender into dummy variables - M, F, and O; then drop column gender\n",
    "dummy_gender = pd.get_dummies(master_df['gender'].apply(pd.Series).stack()).sum(level=0)\n",
    "master_df = pd.merge(master_df, dummy_gender, left_index=True, right_index=True).drop(columns=['gender'])"
   ]
  },
  {
   "cell_type": "code",
   "execution_count": 234,
   "metadata": {},
   "outputs": [
    {
     "data": {
      "text/plain": [
       "time               0.000000\n",
       "difficulty         0.000000\n",
       "duration           0.000000\n",
       "reward             0.000000\n",
       "email              0.000000\n",
       "mobile             0.000000\n",
       "social             0.000000\n",
       "web                0.000000\n",
       "age                0.083782\n",
       "income             0.083782\n",
       "offer_viewed       0.000000\n",
       "offer_completed    0.000000\n",
       "membership_days    0.083782\n",
       "F                  0.000000\n",
       "M                  0.000000\n",
       "O                  0.000000\n",
       "dtype: float64"
      ]
     },
     "execution_count": 234,
     "metadata": {},
     "output_type": "execute_result"
    }
   ],
   "source": [
    "# handle missing values; drop the records with missing values since they are from the same records\n",
    "master_df.isnull().sum()/len(master_df)"
   ]
  },
  {
   "cell_type": "code",
   "execution_count": 235,
   "metadata": {},
   "outputs": [],
   "source": [
    "master_df.dropna(subset=['age', 'income', 'membership_days'], inplace=True)"
   ]
  },
  {
   "cell_type": "markdown",
   "metadata": {},
   "source": [
    "Before building the model, conduct a quick exploratory data analysis on the cleaned dataset."
   ]
  },
  {
   "cell_type": "markdown",
   "metadata": {},
   "source": [
    "1. Correlation analysis<br>\n",
    "> - `reward` has strong positive relationship with `difficulty`\n",
    "> - `offer_viewed` has relatively positive relationship with `social`\n",
    "> - `social` has relatively positive relationship with `difficulty` and `reward` but relatively negative relationship with `duration`\n",
    "> - `web` has relatively negative relationship with `difficulty`, `duration`, and `reward`\n",
    "> - `M` has negative relationship with `F`"
   ]
  },
  {
   "cell_type": "code",
   "execution_count": 241,
   "metadata": {},
   "outputs": [
    {
     "data": {
      "image/png": "[encoded data removed]",
      "text/plain": [
       "<Figure size 720x576 with 2 Axes>"
      ]
     },
     "metadata": {},
     "output_type": "display_data"
    }
   ],
   "source": [
    "corr = master_df.corr()\n",
    "sns.set(style=\"white\")\n",
    "mask = np.zeros_like(corr, dtype=np.bool) \n",
    "mask[np.triu_indices_from(mask)] = True \n",
    "f, ax = plt.subplots(figsize=(10, 8))\n",
    "cmap = sns.diverging_palette(220, 15, as_cmap=True) \n",
    "sns.heatmap(corr, mask=mask, cmap= cmap, center=0,\n",
    "            square=True, linewidths= 0.5, cbar_kws={\"shrink\": 0.4})\n",
    "plt.show()"
   ]
  },
  {
   "cell_type": "markdown",
   "metadata": {},
   "source": [
    "2. Income Distribution by whether the Customer Completed the Offer\n",
    "> based on the density plot **Income Distribution by whether the Customer Completed the Offer**, we can see that people who completed the BOGO offer tend to have higher income than peopl who didn't. Most of the people who completed the offer have income range from \\\\$70k to \\\\$80k; other the other hand, people who didn't complete the offer have income range from \\\\$30k to \\\\$45k. Also, there are more people with income higher than \\\\$80k who completed the BOGO offer than people who didn't."
   ]
  },
  {
   "cell_type": "code",
   "execution_count": 383,
   "metadata": {},
   "outputs": [
    {
     "data": {
      "image/png": "[encoded data removed]",
      "text/plain": [
       "<Figure size 864x576 with 1 Axes>"
      ]
     },
     "metadata": {},
     "output_type": "display_data"
    }
   ],
   "source": [
    "plt.figure(figsize = (12,8))\n",
    "sns.kdeplot(master_df[master_df['offer_completed'] == 1]['income'], label = 'offer completed')\n",
    "sns.kdeplot(master_df[master_df['offer_completed'] == 0]['income'], label = 'offer not completed')\n",
    "plt.xlabel('Income')\n",
    "plt.ylabel('Density')\n",
    "plt.title('Income Distribution by whether the Customer Completed the Offer', size=15)\n",
    "plt.show()"
   ]
  },
  {
   "cell_type": "markdown",
   "metadata": {},
   "source": [
    "3.Customers completed BOGO vs. Customers who didn't complete BOGO\n",
    "> From the bar chart, we know that there are more people who completed the BOGO offers (\\~%60) than people who didn't (\\~%40)"
   ]
  },
  {
   "cell_type": "code",
   "execution_count": 387,
   "metadata": {},
   "outputs": [
    {
     "data": {
      "image/png": "[encoded data removed]",
      "text/plain": [
       "<Figure size 720x432 with 1 Axes>"
      ]
     },
     "metadata": {},
     "output_type": "display_data"
    }
   ],
   "source": [
    "plt.figure(figsize = (10,6))\n",
    "sns.countplot(master_df['offer_completed'])\n",
    "plt.title('Customers completed BOGO vs. Customers who didn\\'t complete BOGO', size=15)\n",
    "plt.show()"
   ]
  },
  {
   "cell_type": "markdown",
   "metadata": {},
   "source": [
    "Shuffle the rows, standardize the data, and conduct train test split for the dataset."
   ]
  },
  {
   "cell_type": "code",
   "execution_count": 273,
   "metadata": {},
   "outputs": [],
   "source": [
    "master_df = master_df.sample(frac=1).reset_index(drop=True)"
   ]
  },
  {
   "cell_type": "code",
   "execution_count": 274,
   "metadata": {},
   "outputs": [],
   "source": [
    "feature_cols = list(master_df.columns)\n",
    "feature_cols.remove('offer_completed')"
   ]
  },
  {
   "cell_type": "code",
   "execution_count": 275,
   "metadata": {},
   "outputs": [
    {
     "name": "stderr",
     "output_type": "stream",
     "text": [
      "/anaconda3/lib/python3.7/site-packages/sklearn/preprocessing/data.py:334: DataConversionWarning: Data with input dtype uint8, int64, float64 were all converted to float64 by MinMaxScaler.\n",
      "  return self.partial_fit(X, y)\n"
     ]
    }
   ],
   "source": [
    "from sklearn.model_selection import train_test_split\n",
    "from sklearn.preprocessing import MinMaxScaler\n",
    "y = master_df['offer_completed']\n",
    "X = master_df[feature_cols]\n",
    "scaler = MinMaxScaler() \n",
    "X_standardized = scaler.fit_transform(X)\n",
    "X_train, X_test, y_train, y_test = train_test_split(X_standardized, y, test_size=0.2)"
   ]
  },
  {
   "cell_type": "markdown",
   "metadata": {},
   "source": [
    "## 2. Modeling & Merics"
   ]
  },
  {
   "cell_type": "code",
   "execution_count": 444,
   "metadata": {},
   "outputs": [],
   "source": [
    "from sklearn.metrics import roc_auc_score\n",
    "from sklearn.metrics import f1_score\n",
    "def evaluation_metrics(preds):\n",
    "    accuracy = np.mean(preds[:, np.newaxis] == np.array(y_test))\n",
    "    auc = roc_auc_score(np.array(y_test), preds)\n",
    "    f1 = f1_score(np.array(y_test), preds, average = \"weighted\")\n",
    "    print('Accuracy: {:.3f}'.format(accuracy))\n",
    "    print('Area Under ROC: {:.3f}'.format(auc))\n",
    "    print('F1 Score: {:.3f}'.format(f1))"
   ]
  },
  {
   "cell_type": "markdown",
   "metadata": {},
   "source": [
    "### 2.1. Naive Bayes"
   ]
  },
  {
   "cell_type": "code",
   "execution_count": 445,
   "metadata": {},
   "outputs": [],
   "source": [
    "from sklearn.naive_bayes import BernoulliNB\n",
    "nb = BernoulliNB()\n",
    "nb.fit(X_train, y_train)\n",
    "pred_nb = nb.predict(X_test)"
   ]
  },
  {
   "cell_type": "code",
   "execution_count": 446,
   "metadata": {},
   "outputs": [
    {
     "name": "stdout",
     "output_type": "stream",
     "text": [
      "Accuracy: 0.525\n",
      "Area Under ROC: 0.600\n",
      "F1 Score: 0.619\n"
     ]
    }
   ],
   "source": [
    "evaluation_metrics(pred_nb)"
   ]
  },
  {
   "cell_type": "markdown",
   "metadata": {},
   "source": [
    "### 2.2 Logistic Regression"
   ]
  },
  {
   "cell_type": "code",
   "execution_count": 447,
   "metadata": {},
   "outputs": [
    {
     "name": "stderr",
     "output_type": "stream",
     "text": [
      "/anaconda3/lib/python3.7/site-packages/sklearn/linear_model/logistic.py:433: FutureWarning: Default solver will be changed to 'lbfgs' in 0.22. Specify a solver to silence this warning.\n",
      "  FutureWarning)\n"
     ]
    }
   ],
   "source": [
    "from sklearn.linear_model import LogisticRegression\n",
    "lr = LogisticRegression()\n",
    "lr.fit(X_train, y_train)\n",
    "pred_lr = lr.predict(X_test)"
   ]
  },
  {
   "cell_type": "code",
   "execution_count": 448,
   "metadata": {},
   "outputs": [
    {
     "name": "stdout",
     "output_type": "stream",
     "text": [
      "Accuracy: 0.535\n",
      "Area Under ROC: 0.673\n",
      "F1 Score: 0.694\n"
     ]
    }
   ],
   "source": [
    "evaluation_metrics(pred_lr)"
   ]
  },
  {
   "cell_type": "markdown",
   "metadata": {},
   "source": [
    "To refine logistic regression, I implemented grid search cv to fine tune the hyperparameter `C` with 5 fold cross validation."
   ]
  },
  {
   "cell_type": "code",
   "execution_count": 449,
   "metadata": {},
   "outputs": [
    {
     "name": "stderr",
     "output_type": "stream",
     "text": [
      "/anaconda3/lib/python3.7/site-packages/sklearn/linear_model/logistic.py:433: FutureWarning: Default solver will be changed to 'lbfgs' in 0.22. Specify a solver to silence this warning.\n",
      "  FutureWarning)\n"
     ]
    },
    {
     "data": {
      "text/plain": [
       "GridSearchCV(cv=StratifiedKFold(n_splits=5, random_state=None, shuffle=True),\n",
       "       error_score='raise-deprecating',\n",
       "       estimator=LogisticRegression(C=1.0, class_weight=None, dual=False, fit_intercept=True,\n",
       "          intercept_scaling=1, max_iter=100, multi_class='warn',\n",
       "          n_jobs=None, penalty='l2', random_state=None, solver='warn',\n",
       "          tol=0.0001, verbose=0, warm_start=False),\n",
       "       fit_params=None, iid='warn', n_jobs=-1,\n",
       "       param_grid={'C': [0.1, 0.5, 0.8, 1, 1.5, 2, 2.5, 5]},\n",
       "       pre_dispatch='2*n_jobs', refit=True, return_train_score='warn',\n",
       "       scoring=None, verbose=0)"
      ]
     },
     "execution_count": 449,
     "metadata": {},
     "output_type": "execute_result"
    }
   ],
   "source": [
    "from sklearn.model_selection import StratifiedKFold\n",
    "from sklearn.model_selection import GridSearchCV\n",
    "parameters = {'C':[1e-1, 5e-1, 0.8, 1, 1.5, 2, 2.5, 5]}\n",
    "lr_cv = GridSearchCV(LogisticRegression(), cv = StratifiedKFold(n_splits=5, shuffle = True), param_grid = parameters, n_jobs = -1)\n",
    "lr_cv.fit(X_train, y_train)"
   ]
  },
  {
   "cell_type": "code",
   "execution_count": 450,
   "metadata": {},
   "outputs": [
    {
     "name": "stdout",
     "output_type": "stream",
     "text": [
      "Accuracy: 0.536\n",
      "Area Under ROC: 0.672\n",
      "F1 Score: 0.693\n"
     ]
    }
   ],
   "source": [
    "pred_lr_cv = lr_cv.predict(X_test)\n",
    "evaluation_metrics(pred_lr_cv)"
   ]
  },
  {
   "cell_type": "markdown",
   "metadata": {},
   "source": [
    "### 2.3 K Nearest Neighbors"
   ]
  },
  {
   "cell_type": "code",
   "execution_count": 451,
   "metadata": {},
   "outputs": [],
   "source": [
    "from sklearn.neighbors import KNeighborsClassifier\n",
    "knn = KNeighborsClassifier()\n",
    "knn.fit(X_train, y_train)\n",
    "pred_knn = knn.predict(X_test)"
   ]
  },
  {
   "cell_type": "code",
   "execution_count": 452,
   "metadata": {},
   "outputs": [
    {
     "name": "stdout",
     "output_type": "stream",
     "text": [
      "Accuracy: 0.520\n",
      "Area Under ROC: 0.763\n",
      "F1 Score: 0.772\n"
     ]
    }
   ],
   "source": [
    "evaluation_metrics(pred_knn)"
   ]
  },
  {
   "cell_type": "markdown",
   "metadata": {},
   "source": [
    "To refine KNN, I implemented grid search cv to fine tune the hyperparameter `n_neighbors` with 5 fold cross validation."
   ]
  },
  {
   "cell_type": "code",
   "execution_count": 453,
   "metadata": {},
   "outputs": [
    {
     "data": {
      "text/plain": [
       "GridSearchCV(cv=StratifiedKFold(n_splits=5, random_state=None, shuffle=True),\n",
       "       error_score='raise-deprecating',\n",
       "       estimator=KNeighborsClassifier(algorithm='auto', leaf_size=30, metric='minkowski',\n",
       "           metric_params=None, n_jobs=None, n_neighbors=5, p=2,\n",
       "           weights='uniform'),\n",
       "       fit_params=None, iid='warn', n_jobs=-1,\n",
       "       param_grid={'n_neighbors': [3, 4, 5, 6, 7, 8, 9, 10]},\n",
       "       pre_dispatch='2*n_jobs', refit=True, return_train_score='warn',\n",
       "       scoring=None, verbose=0)"
      ]
     },
     "execution_count": 453,
     "metadata": {},
     "output_type": "execute_result"
    }
   ],
   "source": [
    "parameters = {'n_neighbors':[3, 4, 5, 6, 7, 8, 9, 10]}\n",
    "knn_cv = GridSearchCV(KNeighborsClassifier(), cv = StratifiedKFold(n_splits=5, shuffle = True), param_grid = parameters, n_jobs = -1)\n",
    "knn_cv.fit(X_train, y_train)"
   ]
  },
  {
   "cell_type": "code",
   "execution_count": 454,
   "metadata": {},
   "outputs": [
    {
     "name": "stdout",
     "output_type": "stream",
     "text": [
      "Accuracy: 0.519\n",
      "Area Under ROC: 0.765\n",
      "F1 Score: 0.773\n"
     ]
    }
   ],
   "source": [
    "pred_knn_cv = knn_cv.predict(X_test)\n",
    "evaluation_metrics(pred_knn_cv)"
   ]
  },
  {
   "cell_type": "markdown",
   "metadata": {},
   "source": [
    "### 2.4 Random Forest"
   ]
  },
  {
   "cell_type": "code",
   "execution_count": 455,
   "metadata": {},
   "outputs": [
    {
     "name": "stderr",
     "output_type": "stream",
     "text": [
      "/anaconda3/lib/python3.7/site-packages/sklearn/ensemble/forest.py:246: FutureWarning: The default value of n_estimators will change from 10 in version 0.20 to 100 in 0.22.\n",
      "  \"10 in version 0.20 to 100 in 0.22.\", FutureWarning)\n"
     ]
    }
   ],
   "source": [
    "from sklearn.ensemble import RandomForestRegressor\n",
    "rf = RandomForestRegressor()\n",
    "rf.fit(X_train, y_train)\n",
    "pred_rf = rf.predict(X_test)"
   ]
  },
  {
   "cell_type": "code",
   "execution_count": 456,
   "metadata": {},
   "outputs": [],
   "source": [
    "# Convert to nn prediction output to binary\n",
    "pred_rf[pred_rf>=0.5] = 1\n",
    "pred_rf[pred_rf<0.5] =0"
   ]
  },
  {
   "cell_type": "code",
   "execution_count": 457,
   "metadata": {
    "scrolled": true
   },
   "outputs": [
    {
     "name": "stdout",
     "output_type": "stream",
     "text": [
      "Accuracy: 0.530\n",
      "Area Under ROC: 0.780\n",
      "F1 Score: 0.796\n"
     ]
    }
   ],
   "source": [
    "evaluation_metrics(pred_rf)"
   ]
  },
  {
   "cell_type": "markdown",
   "metadata": {},
   "source": [
    "To refine Random Forest, I implemented grid search cv to fine tune the hyperparameter `n_estimators`, `max_depth`, and `min_samples_leaf` with 5 fold cross validation."
   ]
  },
  {
   "cell_type": "code",
   "execution_count": 489,
   "metadata": {},
   "outputs": [
    {
     "data": {
      "text/plain": [
       "GridSearchCV(cv=StratifiedKFold(n_splits=5, random_state=None, shuffle=True),\n",
       "       error_score='raise-deprecating',\n",
       "       estimator=RandomForestRegressor(bootstrap=True, criterion='mse', max_depth=None,\n",
       "           max_features='auto', max_leaf_nodes=None,\n",
       "           min_impurity_decrease=0.0, min_impurity_split=None,\n",
       "           min_samples_leaf=1, min_samples_split=2,\n",
       "           min_weight_fraction_leaf=0.0, n_estimators='warn', n_jobs=None,\n",
       "           oob_score=False, random_state=None, verbose=0, warm_start=False),\n",
       "       fit_params=None, iid='warn', n_jobs=-1,\n",
       "       param_grid={'n_estimators': [5, 10, 15, 20], 'max_depth': [5, 10, 15, 20], 'min_samples_leaf': [5, 10, 15, 20]},\n",
       "       pre_dispatch='2*n_jobs', refit=True, return_train_score='warn',\n",
       "       scoring=None, verbose=0)"
      ]
     },
     "execution_count": 489,
     "metadata": {},
     "output_type": "execute_result"
    }
   ],
   "source": [
    "parameters = {'n_estimators':[5,10,15,20], 'max_depth':[5,10,15,20], 'min_samples_leaf':[5,10,15,20]}\n",
    "rf_cv = GridSearchCV(RandomForestRegressor(), cv = StratifiedKFold(n_splits=5, shuffle = True), param_grid = parameters, n_jobs = -1)\n",
    "rf_cv.fit(X_train, y_train)"
   ]
  },
  {
   "cell_type": "code",
   "execution_count": 490,
   "metadata": {},
   "outputs": [
    {
     "data": {
      "text/plain": [
       "RandomForestRegressor(bootstrap=True, criterion='mse', max_depth=20,\n",
       "           max_features='auto', max_leaf_nodes=None,\n",
       "           min_impurity_decrease=0.0, min_impurity_split=None,\n",
       "           min_samples_leaf=5, min_samples_split=2,\n",
       "           min_weight_fraction_leaf=0.0, n_estimators=20, n_jobs=None,\n",
       "           oob_score=False, random_state=None, verbose=0, warm_start=False)"
      ]
     },
     "execution_count": 490,
     "metadata": {},
     "output_type": "execute_result"
    }
   ],
   "source": [
    "rf_cv.best_estimator_"
   ]
  },
  {
   "cell_type": "code",
   "execution_count": 491,
   "metadata": {},
   "outputs": [
    {
     "name": "stdout",
     "output_type": "stream",
     "text": [
      "Accuracy: 0.524\n",
      "Area Under ROC: 0.802\n",
      "F1 Score: 0.813\n"
     ]
    }
   ],
   "source": [
    "pred_rf_cv = rf_cv.predict(X_test)\n",
    "pred_rf_cv[pred_rf_cv >=0.5] = 1\n",
    "pred_rf_cv[pred_rf_cv <0.5] =0\n",
    "evaluation_metrics(pred_rf_cv)"
   ]
  },
  {
   "cell_type": "markdown",
   "metadata": {},
   "source": [
    "### 2.5 Neural Network"
   ]
  },
  {
   "cell_type": "code",
   "execution_count": 497,
   "metadata": {},
   "outputs": [
    {
     "name": "stdout",
     "output_type": "stream",
     "text": [
      "_________________________________________________________________\n",
      "Layer (type)                 Output Shape              Param #   \n",
      "=================================================================\n",
      "dense_75 (Dense)             (None, 15)                240       \n",
      "_________________________________________________________________\n",
      "dense_76 (Dense)             (None, 10)                160       \n",
      "_________________________________________________________________\n",
      "dense_77 (Dense)             (None, 5)                 55        \n",
      "_________________________________________________________________\n",
      "dense_78 (Dense)             (None, 1)                 6         \n",
      "=================================================================\n",
      "Total params: 461\n",
      "Trainable params: 461\n",
      "Non-trainable params: 0\n",
      "_________________________________________________________________\n"
     ]
    }
   ],
   "source": [
    "from keras import models\n",
    "from keras import layers\n",
    "\n",
    "nn = models.Sequential() \n",
    "nn.add(layers.Dense(15, input_dim=15, kernel_initializer='normal', activation='relu'))\n",
    "nn.add(layers.Dense(10, kernel_initializer='normal', activation='relu'))\n",
    "nn.add(layers.Dense(5, kernel_initializer='normal', activation='relu'))\n",
    "nn.add(layers.Dense(1, kernel_initializer='normal', activation='sigmoid'))\n",
    "nn.compile(optimizer='rmsprop',loss='binary_crossentropy',metrics=['accuracy'])\n",
    "nn.summary()"
   ]
  },
  {
   "cell_type": "code",
   "execution_count": 510,
   "metadata": {
    "scrolled": true
   },
   "outputs": [
    {
     "name": "stdout",
     "output_type": "stream",
     "text": [
      "Epoch 1/100\n",
      "20148/20148 [==============================] - 0s 15us/step - loss: 0.4059 - acc: 0.8125\n",
      "Epoch 2/100\n",
      "20148/20148 [==============================] - 0s 10us/step - loss: 0.4050 - acc: 0.8145\n",
      "Epoch 3/100\n",
      "20148/20148 [==============================] - 0s 10us/step - loss: 0.4057 - acc: 0.8139\n",
      "Epoch 4/100\n",
      "20148/20148 [==============================] - 0s 10us/step - loss: 0.4056 - acc: 0.8135\n",
      "Epoch 5/100\n",
      "20148/20148 [==============================] - 0s 10us/step - loss: 0.4054 - acc: 0.8124\n",
      "Epoch 6/100\n",
      "20148/20148 [==============================] - 0s 10us/step - loss: 0.4049 - acc: 0.8137\n",
      "Epoch 7/100\n",
      "20148/20148 [==============================] - 0s 10us/step - loss: 0.4057 - acc: 0.8142\n",
      "Epoch 8/100\n",
      "20148/20148 [==============================] - 0s 10us/step - loss: 0.4053 - acc: 0.8139\n",
      "Epoch 9/100\n",
      "20148/20148 [==============================] - 0s 10us/step - loss: 0.4061 - acc: 0.8126\n",
      "Epoch 10/100\n",
      "20148/20148 [==============================] - 0s 10us/step - loss: 0.4057 - acc: 0.8141\n",
      "Epoch 11/100\n",
      "20148/20148 [==============================] - 0s 10us/step - loss: 0.4054 - acc: 0.8126\n",
      "Epoch 12/100\n",
      "20148/20148 [==============================] - 0s 10us/step - loss: 0.4057 - acc: 0.8138\n",
      "Epoch 13/100\n",
      "20148/20148 [==============================] - 0s 10us/step - loss: 0.4057 - acc: 0.8112\n",
      "Epoch 14/100\n",
      "20148/20148 [==============================] - 0s 9us/step - loss: 0.4048 - acc: 0.8131\n",
      "Epoch 15/100\n",
      "20148/20148 [==============================] - 0s 9us/step - loss: 0.4058 - acc: 0.8124\n",
      "Epoch 16/100\n",
      "20148/20148 [==============================] - 0s 10us/step - loss: 0.4054 - acc: 0.8129\n",
      "Epoch 17/100\n",
      "20148/20148 [==============================] - 0s 9us/step - loss: 0.4051 - acc: 0.8141\n",
      "Epoch 18/100\n",
      "20148/20148 [==============================] - 0s 10us/step - loss: 0.4055 - acc: 0.8112\n",
      "Epoch 19/100\n",
      "20148/20148 [==============================] - 0s 9us/step - loss: 0.4052 - acc: 0.8137\n",
      "Epoch 20/100\n",
      "20148/20148 [==============================] - 0s 9us/step - loss: 0.4058 - acc: 0.8122\n",
      "Epoch 21/100\n",
      "20148/20148 [==============================] - 0s 9us/step - loss: 0.4051 - acc: 0.8130\n",
      "Epoch 22/100\n",
      "20148/20148 [==============================] - 0s 9us/step - loss: 0.4055 - acc: 0.8113\n",
      "Epoch 23/100\n",
      "20148/20148 [==============================] - 0s 9us/step - loss: 0.4058 - acc: 0.8136\n",
      "Epoch 24/100\n",
      "20148/20148 [==============================] - 0s 10us/step - loss: 0.4056 - acc: 0.8129\n",
      "Epoch 25/100\n",
      "20148/20148 [==============================] - 0s 10us/step - loss: 0.4046 - acc: 0.8132\n",
      "Epoch 26/100\n",
      "20148/20148 [==============================] - 0s 10us/step - loss: 0.4056 - acc: 0.8133\n",
      "Epoch 27/100\n",
      "20148/20148 [==============================] - 0s 9us/step - loss: 0.4048 - acc: 0.8134\n",
      "Epoch 28/100\n",
      "20148/20148 [==============================] - 0s 9us/step - loss: 0.4048 - acc: 0.8136\n",
      "Epoch 29/100\n",
      "20148/20148 [==============================] - 0s 9us/step - loss: 0.4055 - acc: 0.8138\n",
      "Epoch 30/100\n",
      "20148/20148 [==============================] - 0s 10us/step - loss: 0.4052 - acc: 0.8123\n",
      "Epoch 31/100\n",
      "20148/20148 [==============================] - 0s 9us/step - loss: 0.4052 - acc: 0.8145\n",
      "Epoch 32/100\n",
      "20148/20148 [==============================] - 0s 9us/step - loss: 0.4058 - acc: 0.8128\n",
      "Epoch 33/100\n",
      "20148/20148 [==============================] - 0s 10us/step - loss: 0.4051 - acc: 0.8143\n",
      "Epoch 34/100\n",
      "20148/20148 [==============================] - 0s 9us/step - loss: 0.4047 - acc: 0.8119\n",
      "Epoch 35/100\n",
      "20148/20148 [==============================] - 0s 10us/step - loss: 0.4050 - acc: 0.8137\n",
      "Epoch 36/100\n",
      "20148/20148 [==============================] - 0s 10us/step - loss: 0.4053 - acc: 0.8137\n",
      "Epoch 37/100\n",
      "20148/20148 [==============================] - 0s 10us/step - loss: 0.4048 - acc: 0.8140\n",
      "Epoch 38/100\n",
      "20148/20148 [==============================] - 0s 9us/step - loss: 0.4054 - acc: 0.8126\n",
      "Epoch 39/100\n",
      "20148/20148 [==============================] - 0s 10us/step - loss: 0.4051 - acc: 0.8127\n",
      "Epoch 40/100\n",
      "20148/20148 [==============================] - 0s 9us/step - loss: 0.4051 - acc: 0.8142\n",
      "Epoch 41/100\n",
      "20148/20148 [==============================] - 0s 10us/step - loss: 0.4050 - acc: 0.8128\n",
      "Epoch 42/100\n",
      "20148/20148 [==============================] - 0s 9us/step - loss: 0.4053 - acc: 0.8129\n",
      "Epoch 43/100\n",
      "20148/20148 [==============================] - 0s 9us/step - loss: 0.4049 - acc: 0.8122\n",
      "Epoch 44/100\n",
      "20148/20148 [==============================] - 0s 9us/step - loss: 0.4049 - acc: 0.8144\n",
      "Epoch 45/100\n",
      "20148/20148 [==============================] - 0s 10us/step - loss: 0.4056 - acc: 0.8134\n",
      "Epoch 46/100\n",
      "20148/20148 [==============================] - 0s 9us/step - loss: 0.4050 - acc: 0.8137\n",
      "Epoch 47/100\n",
      "20148/20148 [==============================] - 0s 10us/step - loss: 0.4049 - acc: 0.8135\n",
      "Epoch 48/100\n",
      "20148/20148 [==============================] - 0s 9us/step - loss: 0.4052 - acc: 0.8122\n",
      "Epoch 49/100\n",
      "20148/20148 [==============================] - 0s 10us/step - loss: 0.4050 - acc: 0.8124\n",
      "Epoch 50/100\n",
      "20148/20148 [==============================] - 0s 10us/step - loss: 0.4050 - acc: 0.8139\n",
      "Epoch 51/100\n",
      "20148/20148 [==============================] - 0s 9us/step - loss: 0.4051 - acc: 0.8130\n",
      "Epoch 52/100\n",
      "20148/20148 [==============================] - 0s 9us/step - loss: 0.4054 - acc: 0.8124\n",
      "Epoch 53/100\n",
      "20148/20148 [==============================] - 0s 10us/step - loss: 0.4049 - acc: 0.8137\n",
      "Epoch 54/100\n",
      "20148/20148 [==============================] - 0s 9us/step - loss: 0.4052 - acc: 0.8133\n",
      "Epoch 55/100\n",
      "20148/20148 [==============================] - 0s 9us/step - loss: 0.4053 - acc: 0.8129\n",
      "Epoch 56/100\n",
      "20148/20148 [==============================] - 0s 9us/step - loss: 0.4046 - acc: 0.8150\n",
      "Epoch 57/100\n",
      "20148/20148 [==============================] - 0s 10us/step - loss: 0.4053 - acc: 0.8143\n",
      "Epoch 58/100\n",
      "20148/20148 [==============================] - 0s 9us/step - loss: 0.4056 - acc: 0.8115\n",
      "Epoch 59/100\n",
      "20148/20148 [==============================] - 0s 9us/step - loss: 0.4049 - acc: 0.8151\n",
      "Epoch 60/100\n",
      "20148/20148 [==============================] - 0s 9us/step - loss: 0.4045 - acc: 0.8129\n",
      "Epoch 61/100\n",
      "20148/20148 [==============================] - 0s 10us/step - loss: 0.4050 - acc: 0.8135\n",
      "Epoch 62/100\n",
      "20148/20148 [==============================] - 0s 9us/step - loss: 0.4043 - acc: 0.8140\n",
      "Epoch 63/100\n",
      "20148/20148 [==============================] - 0s 10us/step - loss: 0.4050 - acc: 0.8119\n",
      "Epoch 64/100\n",
      "20148/20148 [==============================] - 0s 9us/step - loss: 0.4049 - acc: 0.8150\n",
      "Epoch 65/100\n",
      "20148/20148 [==============================] - 0s 9us/step - loss: 0.4042 - acc: 0.8119\n",
      "Epoch 66/100\n",
      "20148/20148 [==============================] - 0s 10us/step - loss: 0.4045 - acc: 0.8136\n",
      "Epoch 67/100\n",
      "20148/20148 [==============================] - 0s 9us/step - loss: 0.4048 - acc: 0.8157\n",
      "Epoch 68/100\n",
      "20148/20148 [==============================] - 0s 9us/step - loss: 0.4050 - acc: 0.8141\n",
      "Epoch 69/100\n",
      "20148/20148 [==============================] - 0s 10us/step - loss: 0.4051 - acc: 0.8128\n",
      "Epoch 70/100\n",
      "20148/20148 [==============================] - 0s 10us/step - loss: 0.4041 - acc: 0.8121\n",
      "Epoch 71/100\n",
      "20148/20148 [==============================] - 0s 9us/step - loss: 0.4047 - acc: 0.8136\n",
      "Epoch 72/100\n",
      "20148/20148 [==============================] - 0s 9us/step - loss: 0.4049 - acc: 0.8122\n",
      "Epoch 73/100\n",
      "20148/20148 [==============================] - 0s 10us/step - loss: 0.4044 - acc: 0.8139\n",
      "Epoch 74/100\n",
      "20148/20148 [==============================] - 0s 9us/step - loss: 0.4045 - acc: 0.8141\n",
      "Epoch 75/100\n",
      "20148/20148 [==============================] - 0s 9us/step - loss: 0.4048 - acc: 0.8133\n",
      "Epoch 76/100\n",
      "20148/20148 [==============================] - 0s 10us/step - loss: 0.4040 - acc: 0.8129\n",
      "Epoch 77/100\n",
      "20148/20148 [==============================] - 0s 9us/step - loss: 0.4048 - acc: 0.8122\n",
      "Epoch 78/100\n",
      "20148/20148 [==============================] - 0s 10us/step - loss: 0.4044 - acc: 0.8126\n",
      "Epoch 79/100\n",
      "20148/20148 [==============================] - 0s 10us/step - loss: 0.4038 - acc: 0.8138\n",
      "Epoch 80/100\n",
      "20148/20148 [==============================] - 0s 10us/step - loss: 0.4047 - acc: 0.8137\n",
      "Epoch 81/100\n"
     ]
    },
    {
     "name": "stdout",
     "output_type": "stream",
     "text": [
      "20148/20148 [==============================] - 0s 10us/step - loss: 0.4046 - acc: 0.8135\n",
      "Epoch 82/100\n",
      "20148/20148 [==============================] - 0s 9us/step - loss: 0.4044 - acc: 0.8139\n",
      "Epoch 83/100\n",
      "20148/20148 [==============================] - 0s 9us/step - loss: 0.4043 - acc: 0.8144\n",
      "Epoch 84/100\n",
      "20148/20148 [==============================] - 0s 9us/step - loss: 0.4044 - acc: 0.8149\n",
      "Epoch 85/100\n",
      "20148/20148 [==============================] - 0s 9us/step - loss: 0.4047 - acc: 0.8130\n",
      "Epoch 86/100\n",
      "20148/20148 [==============================] - 0s 9us/step - loss: 0.4038 - acc: 0.8128\n",
      "Epoch 87/100\n",
      "20148/20148 [==============================] - 0s 9us/step - loss: 0.4043 - acc: 0.8129\n",
      "Epoch 88/100\n",
      "20148/20148 [==============================] - 0s 9us/step - loss: 0.4041 - acc: 0.8131\n",
      "Epoch 89/100\n",
      "20148/20148 [==============================] - 0s 10us/step - loss: 0.4037 - acc: 0.8157\n",
      "Epoch 90/100\n",
      "20148/20148 [==============================] - 0s 9us/step - loss: 0.4039 - acc: 0.8153\n",
      "Epoch 91/100\n",
      "20148/20148 [==============================] - 0s 9us/step - loss: 0.4045 - acc: 0.8139\n",
      "Epoch 92/100\n",
      "20148/20148 [==============================] - 0s 9us/step - loss: 0.4042 - acc: 0.8115\n",
      "Epoch 93/100\n",
      "20148/20148 [==============================] - 0s 9us/step - loss: 0.4040 - acc: 0.8140\n",
      "Epoch 94/100\n",
      "20148/20148 [==============================] - 0s 10us/step - loss: 0.4044 - acc: 0.8136\n",
      "Epoch 95/100\n",
      "20148/20148 [==============================] - 0s 9us/step - loss: 0.4043 - acc: 0.8134\n",
      "Epoch 96/100\n",
      "20148/20148 [==============================] - 0s 10us/step - loss: 0.4042 - acc: 0.8143\n",
      "Epoch 97/100\n",
      "20148/20148 [==============================] - 0s 10us/step - loss: 0.4046 - acc: 0.8130\n",
      "Epoch 98/100\n",
      "20148/20148 [==============================] - 0s 10us/step - loss: 0.4039 - acc: 0.8137\n",
      "Epoch 99/100\n",
      "20148/20148 [==============================] - 0s 9us/step - loss: 0.4048 - acc: 0.8123\n",
      "Epoch 100/100\n",
      "20148/20148 [==============================] - 0s 10us/step - loss: 0.4041 - acc: 0.8134\n",
      "5037/5037 [==============================] - 0s 14us/step\n",
      "Test accuracy: 0.792535239288867\n"
     ]
    }
   ],
   "source": [
    "nn.fit(X_train, y_train,epochs=100, batch_size= 100)\n",
    "test_loss, test_acc = nn.evaluate(X_test, y_test)\n",
    "print('Test accuracy:', test_acc)"
   ]
  },
  {
   "cell_type": "code",
   "execution_count": 511,
   "metadata": {
    "scrolled": true
   },
   "outputs": [],
   "source": [
    "pred_nn = nn.predict(X_test)"
   ]
  },
  {
   "cell_type": "code",
   "execution_count": 512,
   "metadata": {},
   "outputs": [],
   "source": [
    "# Convert to nn prediction output to binary\n",
    "pred_nn[pred_nn>=0.5] = 1\n",
    "pred_nn[pred_nn<0.5] =0"
   ]
  },
  {
   "cell_type": "code",
   "execution_count": 513,
   "metadata": {},
   "outputs": [
    {
     "name": "stdout",
     "output_type": "stream",
     "text": [
      "Accuracy: 0.516\n",
      "Area Under ROC: 0.788\n",
      "F1 Score: 0.793\n"
     ]
    }
   ],
   "source": [
    "evaluation_metrics(pred_nn)"
   ]
  },
  {
   "cell_type": "markdown",
   "metadata": {},
   "source": [
    "## 4. Results & Conclusion"
   ]
  },
  {
   "cell_type": "markdown",
   "metadata": {},
   "source": [
    "According to the **Metrics** table, we can see that overall Random Forest with CV performs better than other models, even the neural network. Although the auccuracy for Random Forest with CV is not the highest, it's AUC and F1 score are not bad at all."
   ]
  },
  {
   "cell_type": "markdown",
   "metadata": {},
   "source": [
    "| Metrics | Accuracy | AUC | F1 |\n",
    "| :- | -: | -: | -: |\n",
    "| Naive Bayes | 0.525 | 0.600 | 0.619 |\n",
    "| Logistic Regression | 0.535 | 0.673 | 0.694 |\n",
    "| Logistic Regression with CV| 0.536 | 0.672 | 0.693 |\n",
    "| KNearestNeighbors | 0.520 | 0.763 | 0.772 |\n",
    "| KNearestNeighbors with CV| 0.519 | 0.765 | 0.773 |\n",
    "| Random Forest | 0.530 | 0.780 | 0.796 |\n",
    "| Random Forest with CV| 0.524 | 0.802 | 0.813 |\n",
    "| Neural Network | 0.516 | 0.788 | 0.793 |"
   ]
  },
  {
   "cell_type": "markdown",
   "metadata": {},
   "source": [
    "When looking at the confusion matrix, the best model `Random Forest with CV` is doing pretty well in terms of classifying the positive class, meaning people who completed the BOGO offer. However, the model can certainly improve on the prediction for people who didn't complete the BOGO offer."
   ]
  },
  {
   "cell_type": "code",
   "execution_count": 540,
   "metadata": {},
   "outputs": [
    {
     "data": {
      "image/png": "[encoded data removed]",
      "text/plain": [
       "<Figure size 576x432 with 2 Axes>"
      ]
     },
     "metadata": {},
     "output_type": "display_data"
    }
   ],
   "source": [
    "from sklearn.metrics import confusion_matrix\n",
    "plt.figure(figsize=(8,6))\n",
    "rf_cv_cm = confusion_matrix(np.array(y_test), pred_rf_cv)\n",
    "sns.heatmap(rf_cv_cm, cmap='Purples', annot=True, fmt=',.0f', center=1400)\n",
    "axis_font = {'size':'12'}\n",
    "plt.ylabel('True label', **axis_font)\n",
    "plt.xlabel('Predicted label', **axis_font)\n",
    "plt.show()"
   ]
  },
  {
   "cell_type": "markdown",
   "metadata": {},
   "source": [
    "Since we chose the tree-based model, we can see which feature plays the most important role in predicting whether the customer will complete the BOGO offer. According to **Feature Importances** chart, `membership_days` turns out to be the most influential feature. The second and third important features are `time` and `income`. Surprisingy, feature `offer_viewed` is not even the top 5 feature, which means whether a customer views the BOGO offer or not doesn't siginificantly impact the offer completion."
   ]
  },
  {
   "cell_type": "code",
   "execution_count": 547,
   "metadata": {},
   "outputs": [
    {
     "data": {
      "image/png": "[encoded data removed]",
      "text/plain": [
       "<Figure size 720x576 with 1 Axes>"
      ]
     },
     "metadata": {},
     "output_type": "display_data"
    }
   ],
   "source": [
    "sns.set_style(\"whitegrid\")\n",
    "importances = rf_cv.best_estimator_.feature_importances_\n",
    "indices = np.argsort(importances)[::-1]\n",
    "axis_font = {'size':'15'}\n",
    "plt.figure(figsize = (10,8))\n",
    "plt.title('Feature Importances', **axis_font, weight='bold')\n",
    "plt.barh(range(len(importances)), importances[indices], align='center')\n",
    "plt.yticks(range(len(importances)), X.columns[indices], **axis_font)\n",
    "plt.xlabel('Relative Importance', **axis_font)\n",
    "plt.show()"
   ]
  },
  {
   "cell_type": "markdown",
   "metadata": {},
   "source": [
    "Note that there are more data points in positive class than in negative class. Although the class imbalance is not serious (60% vs. 40%), it still might affect the model performance. In addition, we don't have sufficient number of features; the model only has 15 features in total. Therefore, even though we refined the model with cross validation and hyperparameter tuning, the room for model improvement is limited. <br>\n",
    "\n",
    "In the future, we can gather more information on the offer such as the month when the offer is released, the number of people being targeted for the offer, the type of product in the BOGO offer, etc. Additionally, it'd be beneficial to know more about the customer demographics other than income and age. For example, education level, race, wether the customer lives in the city or not are all good indicators to include in the model.\n",
    "\n",
    "In terms of further improving the models, I will handle the class imbalance issue and conduct more feature engineering process to make sure the dataset is representive and generalizable enough. I might also try some other machine learning algorithms such as XGboost, Support Vector Machine, and other neural network architecture."
   ]
  }
 ],
 "metadata": {
  "kernelspec": {
   "display_name": "Python 3",
   "language": "python",
   "name": "python3"
  },
  "language_info": {
   "codemirror_mode": {
    "name": "ipython",
    "version": 3
   },
   "file_extension": ".py",
   "mimetype": "text/x-python",
   "name": "python",
   "nbconvert_exporter": "python",
   "pygments_lexer": "ipython3",
   "version": "3.7.3"
  }
 },
 "nbformat": 4,
 "nbformat_minor": 2
}
